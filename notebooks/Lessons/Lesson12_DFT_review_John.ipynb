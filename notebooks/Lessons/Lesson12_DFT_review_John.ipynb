{
 "cells": [
  {
   "cell_type": "code",
   "execution_count": 1,
   "metadata": {},
   "outputs": [],
   "source": [
    "def generate_matrix_dft(N, K):\n",
    "    import numpy as np\n",
    "    \"\"\"Generate a DFT (discete Fourier transfrom) matrix\n",
    "    Args:\n",
    "        N: Number of samples\n",
    "        K: Number of frequency bins\n",
    "    Returns:\n",
    "        dft: The DFT matrix\n",
    "    \"\"\"\n",
    "    dft = np.zeros((K, N), dtype=np.complex128)\n",
    "    for n in range(N):\n",
    "        for k in range(K):\n",
    "            dft[k, n] = np.exp(-2j * np.pi * k * n / N)\n",
    "    return dft\n",
    "\n",
    "N = 32\n",
    "dft_mat = generate_matrix_dft(N, N)\n",
    "\n",
    "def my_DFT(x):\n",
    "    \"\"\"Compute the discete Fourier transfrom (DFT)\n",
    "    Args:\n",
    "        x: Signal to be transformed\n",
    "    Returns:\n",
    "        X: Fourier transform of `x`\n",
    "    \"\"\"\n",
    "    x = x.astype(np.complex128)\n",
    "    N = len(x)\n",
    "    dft_mat = generate_matrix_dft(N, N)\n",
    "    return np.dot(dft_mat, x)"
   ]
  },
  {
   "cell_type": "code",
   "execution_count": 2,
   "metadata": {},
   "outputs": [],
   "source": [
    "def genComplexSine(k, N):\n",
    "\n",
    "    import numpy as np\n",
    "    int(N) if N >= 1 else False\n",
    "    int(k) if 0 < k < (N - 1) else False\n",
    "    n = np.arange(0,N)\n",
    "    \n",
    "    cSine = np.exp(-1j * 2 * np.pi * k * n / N)\n",
    "    return cSine"
   ]
  },
  {
   "cell_type": "markdown",
   "metadata": {
    "slideshow": {
     "slide_type": "slide"
    }
   },
   "source": [
    "# DFT review"
   ]
  },
  {
   "cell_type": "code",
   "execution_count": 3,
   "metadata": {
    "slideshow": {
     "slide_type": "skip"
    }
   },
   "outputs": [],
   "source": [
    "from IPython.display import Math\n",
    "import numpy as np\n",
    "import matplotlib.pyplot as plt\n",
    "#%matplotlib inline \n",
    "#import mpld3 \n",
    "#mpld3.enable_notebook() "
   ]
  },
  {
   "cell_type": "markdown",
   "metadata": {
    "slideshow": {
     "slide_type": "skip"
    }
   },
   "source": [
    "$\\renewcommand{\\vec}[1]{\\mathbf{#1}}$"
   ]
  },
  {
   "cell_type": "markdown",
   "metadata": {},
   "source": [
    "The DFT can be understood as the projection of a signal into a finite set of complex sine waves. It is able to figure out how much of each sinusoid is present in the signal. (Where each sinusoid has a period equal to k over N samples.)"
   ]
  },
  {
   "cell_type": "markdown",
   "metadata": {
    "slideshow": {
     "slide_type": "slide"
    }
   },
   "source": [
    "### First, some linear algebra:\n",
    "\n",
    "Before we get into the Fourier transform properly, let's switch gears for a bit and work with points in the 2-dimensional plane. \n",
    "Consider the vector $\\vec{v} = (3, 4)$."
   ]
  },
  {
   "cell_type": "code",
   "execution_count": 4,
   "metadata": {},
   "outputs": [
    {
     "data": {
      "image/svg+xml": [
       "<?xml version=\"1.0\" encoding=\"utf-8\" standalone=\"no\"?>\n",
       "<!DOCTYPE svg PUBLIC \"-//W3C//DTD SVG 1.1//EN\"\n",
       "  \"http://www.w3.org/Graphics/SVG/1.1/DTD/svg11.dtd\">\n",
       "<svg xmlns:xlink=\"http://www.w3.org/1999/xlink\" width=\"732.778125pt\" height=\"256.637344pt\" viewBox=\"0 0 732.778125 256.637344\" xmlns=\"http://www.w3.org/2000/svg\" version=\"1.1\">\n",
       " <metadata>\n",
       "  <rdf:RDF xmlns:dc=\"http://purl.org/dc/elements/1.1/\" xmlns:cc=\"http://creativecommons.org/ns#\" xmlns:rdf=\"http://www.w3.org/1999/02/22-rdf-syntax-ns#\">\n",
       "   <cc:Work>\n",
       "    <dc:type rdf:resource=\"http://purl.org/dc/dcmitype/StillImage\"/>\n",
       "    <dc:date>2022-02-28T11:02:57.901540</dc:date>\n",
       "    <dc:format>image/svg+xml</dc:format>\n",
       "    <dc:creator>\n",
       "     <cc:Agent>\n",
       "      <dc:title>Matplotlib v3.5.1, https://matplotlib.org/</dc:title>\n",
       "     </cc:Agent>\n",
       "    </dc:creator>\n",
       "   </cc:Work>\n",
       "  </rdf:RDF>\n",
       " </metadata>\n",
       " <defs>\n",
       "  <style type=\"text/css\">*{stroke-linejoin: round; stroke-linecap: butt}</style>\n",
       " </defs>\n",
       " <g id=\"figure_1\">\n",
       "  <g id=\"patch_1\">\n",
       "   <path d=\"M 0 256.637344 \n",
       "L 732.778125 256.637344 \n",
       "L 732.778125 0 \n",
       "L 0 0 \n",
       "z\n",
       "\" style=\"fill: #ffffff\"/>\n",
       "  </g>\n",
       "  <g id=\"axes_1\">\n",
       "   <g id=\"patch_2\">\n",
       "    <path d=\"M 44.845313 232.759219 \n",
       "L 714.445312 232.759219 \n",
       "L 714.445312 10.999219 \n",
       "L 44.845313 10.999219 \n",
       "z\n",
       "\" style=\"fill: #ffffff\"/>\n",
       "   </g>\n",
       "   <g id=\"Quiver_1\">\n",
       "    <path d=\"M 380.659623 119.5822 \n",
       "L 460.426455 154.805403 \n",
       "L 460.158058 149.197055 \n",
       "L 480.085312 166.231219 \n",
       "L 454.072194 162.979167 \n",
       "L 458.397834 159.399441 \n",
       "L 378.631002 124.176237 \n",
       "L 380.659623 119.5822 \n",
       "\" clip-path=\"url(#p3f2a5d28a6)\" style=\"fill: #ff0000\"/>\n",
       "    <path d=\"M 379.645313 119.368219 \n",
       "L 524.446313 119.368219 \n",
       "L 521.935313 114.346219 \n",
       "L 547.045313 121.879219 \n",
       "L 521.935313 129.412219 \n",
       "L 524.446313 124.390219 \n",
       "L 379.645313 124.390219 \n",
       "L 379.645313 119.368219 \n",
       "\" clip-path=\"url(#p3f2a5d28a6)\"/>\n",
       "    <path d=\"M 382.156313 121.879219 \n",
       "L 382.156313 154.720219 \n",
       "L 387.178313 152.209219 \n",
       "L 379.645313 177.319219 \n",
       "L 372.112313 152.209219 \n",
       "L 377.134313 154.720219 \n",
       "L 377.134313 121.879219 \n",
       "L 382.156313 121.879219 \n",
       "\" clip-path=\"url(#p3f2a5d28a6)\"/>\n",
       "   </g>\n",
       "   <g id=\"matplotlib.axis_1\">\n",
       "    <g id=\"xtick_1\">\n",
       "     <g id=\"line2d_1\">\n",
       "      <defs>\n",
       "       <path id=\"m3532739483\" d=\"M 0 0 \n",
       "L 0 3.5 \n",
       "\" style=\"stroke: #000000; stroke-width: 0.8\"/>\n",
       "      </defs>\n",
       "      <g>\n",
       "       <use xlink:href=\"#m3532739483\" x=\"44.845312\" y=\"232.759219\" style=\"stroke: #000000; stroke-width: 0.8\"/>\n",
       "      </g>\n",
       "     </g>\n",
       "     <g id=\"text_1\">\n",
       "      <!-- −10.0 -->\n",
       "      <g transform=\"translate(29.522656 247.357656)scale(0.1 -0.1)\">\n",
       "       <defs>\n",
       "        <path id=\"DejaVuSans-2212\" d=\"M 678 2272 \n",
       "L 4684 2272 \n",
       "L 4684 1741 \n",
       "L 678 1741 \n",
       "L 678 2272 \n",
       "z\n",
       "\" transform=\"scale(0.015625)\"/>\n",
       "        <path id=\"DejaVuSans-31\" d=\"M 794 531 \n",
       "L 1825 531 \n",
       "L 1825 4091 \n",
       "L 703 3866 \n",
       "L 703 4441 \n",
       "L 1819 4666 \n",
       "L 2450 4666 \n",
       "L 2450 531 \n",
       "L 3481 531 \n",
       "L 3481 0 \n",
       "L 794 0 \n",
       "L 794 531 \n",
       "z\n",
       "\" transform=\"scale(0.015625)\"/>\n",
       "        <path id=\"DejaVuSans-30\" d=\"M 2034 4250 \n",
       "Q 1547 4250 1301 3770 \n",
       "Q 1056 3291 1056 2328 \n",
       "Q 1056 1369 1301 889 \n",
       "Q 1547 409 2034 409 \n",
       "Q 2525 409 2770 889 \n",
       "Q 3016 1369 3016 2328 \n",
       "Q 3016 3291 2770 3770 \n",
       "Q 2525 4250 2034 4250 \n",
       "z\n",
       "M 2034 4750 \n",
       "Q 2819 4750 3233 4129 \n",
       "Q 3647 3509 3647 2328 \n",
       "Q 3647 1150 3233 529 \n",
       "Q 2819 -91 2034 -91 \n",
       "Q 1250 -91 836 529 \n",
       "Q 422 1150 422 2328 \n",
       "Q 422 3509 836 4129 \n",
       "Q 1250 4750 2034 4750 \n",
       "z\n",
       "\" transform=\"scale(0.015625)\"/>\n",
       "        <path id=\"DejaVuSans-2e\" d=\"M 684 794 \n",
       "L 1344 794 \n",
       "L 1344 0 \n",
       "L 684 0 \n",
       "L 684 794 \n",
       "z\n",
       "\" transform=\"scale(0.015625)\"/>\n",
       "       </defs>\n",
       "       <use xlink:href=\"#DejaVuSans-2212\"/>\n",
       "       <use xlink:href=\"#DejaVuSans-31\" x=\"83.789062\"/>\n",
       "       <use xlink:href=\"#DejaVuSans-30\" x=\"147.412109\"/>\n",
       "       <use xlink:href=\"#DejaVuSans-2e\" x=\"211.035156\"/>\n",
       "       <use xlink:href=\"#DejaVuSans-30\" x=\"242.822266\"/>\n",
       "      </g>\n",
       "     </g>\n",
       "    </g>\n",
       "    <g id=\"xtick_2\">\n",
       "     <g id=\"line2d_2\">\n",
       "      <g>\n",
       "       <use xlink:href=\"#m3532739483\" x=\"128.545313\" y=\"232.759219\" style=\"stroke: #000000; stroke-width: 0.8\"/>\n",
       "      </g>\n",
       "     </g>\n",
       "     <g id=\"text_2\">\n",
       "      <!-- −7.5 -->\n",
       "      <g transform=\"translate(116.403906 247.357656)scale(0.1 -0.1)\">\n",
       "       <defs>\n",
       "        <path id=\"DejaVuSans-37\" d=\"M 525 4666 \n",
       "L 3525 4666 \n",
       "L 3525 4397 \n",
       "L 1831 0 \n",
       "L 1172 0 \n",
       "L 2766 4134 \n",
       "L 525 4134 \n",
       "L 525 4666 \n",
       "z\n",
       "\" transform=\"scale(0.015625)\"/>\n",
       "        <path id=\"DejaVuSans-35\" d=\"M 691 4666 \n",
       "L 3169 4666 \n",
       "L 3169 4134 \n",
       "L 1269 4134 \n",
       "L 1269 2991 \n",
       "Q 1406 3038 1543 3061 \n",
       "Q 1681 3084 1819 3084 \n",
       "Q 2600 3084 3056 2656 \n",
       "Q 3513 2228 3513 1497 \n",
       "Q 3513 744 3044 326 \n",
       "Q 2575 -91 1722 -91 \n",
       "Q 1428 -91 1123 -41 \n",
       "Q 819 9 494 109 \n",
       "L 494 744 \n",
       "Q 775 591 1075 516 \n",
       "Q 1375 441 1709 441 \n",
       "Q 2250 441 2565 725 \n",
       "Q 2881 1009 2881 1497 \n",
       "Q 2881 1984 2565 2268 \n",
       "Q 2250 2553 1709 2553 \n",
       "Q 1456 2553 1204 2497 \n",
       "Q 953 2441 691 2322 \n",
       "L 691 4666 \n",
       "z\n",
       "\" transform=\"scale(0.015625)\"/>\n",
       "       </defs>\n",
       "       <use xlink:href=\"#DejaVuSans-2212\"/>\n",
       "       <use xlink:href=\"#DejaVuSans-37\" x=\"83.789062\"/>\n",
       "       <use xlink:href=\"#DejaVuSans-2e\" x=\"147.412109\"/>\n",
       "       <use xlink:href=\"#DejaVuSans-35\" x=\"179.199219\"/>\n",
       "      </g>\n",
       "     </g>\n",
       "    </g>\n",
       "    <g id=\"xtick_3\">\n",
       "     <g id=\"line2d_3\">\n",
       "      <g>\n",
       "       <use xlink:href=\"#m3532739483\" x=\"212.245313\" y=\"232.759219\" style=\"stroke: #000000; stroke-width: 0.8\"/>\n",
       "      </g>\n",
       "     </g>\n",
       "     <g id=\"text_3\">\n",
       "      <!-- −5.0 -->\n",
       "      <g transform=\"translate(200.103906 247.357656)scale(0.1 -0.1)\">\n",
       "       <use xlink:href=\"#DejaVuSans-2212\"/>\n",
       "       <use xlink:href=\"#DejaVuSans-35\" x=\"83.789062\"/>\n",
       "       <use xlink:href=\"#DejaVuSans-2e\" x=\"147.412109\"/>\n",
       "       <use xlink:href=\"#DejaVuSans-30\" x=\"179.199219\"/>\n",
       "      </g>\n",
       "     </g>\n",
       "    </g>\n",
       "    <g id=\"xtick_4\">\n",
       "     <g id=\"line2d_4\">\n",
       "      <g>\n",
       "       <use xlink:href=\"#m3532739483\" x=\"295.945312\" y=\"232.759219\" style=\"stroke: #000000; stroke-width: 0.8\"/>\n",
       "      </g>\n",
       "     </g>\n",
       "     <g id=\"text_4\">\n",
       "      <!-- −2.5 -->\n",
       "      <g transform=\"translate(283.803906 247.357656)scale(0.1 -0.1)\">\n",
       "       <defs>\n",
       "        <path id=\"DejaVuSans-32\" d=\"M 1228 531 \n",
       "L 3431 531 \n",
       "L 3431 0 \n",
       "L 469 0 \n",
       "L 469 531 \n",
       "Q 828 903 1448 1529 \n",
       "Q 2069 2156 2228 2338 \n",
       "Q 2531 2678 2651 2914 \n",
       "Q 2772 3150 2772 3378 \n",
       "Q 2772 3750 2511 3984 \n",
       "Q 2250 4219 1831 4219 \n",
       "Q 1534 4219 1204 4116 \n",
       "Q 875 4013 500 3803 \n",
       "L 500 4441 \n",
       "Q 881 4594 1212 4672 \n",
       "Q 1544 4750 1819 4750 \n",
       "Q 2544 4750 2975 4387 \n",
       "Q 3406 4025 3406 3419 \n",
       "Q 3406 3131 3298 2873 \n",
       "Q 3191 2616 2906 2266 \n",
       "Q 2828 2175 2409 1742 \n",
       "Q 1991 1309 1228 531 \n",
       "z\n",
       "\" transform=\"scale(0.015625)\"/>\n",
       "       </defs>\n",
       "       <use xlink:href=\"#DejaVuSans-2212\"/>\n",
       "       <use xlink:href=\"#DejaVuSans-32\" x=\"83.789062\"/>\n",
       "       <use xlink:href=\"#DejaVuSans-2e\" x=\"147.412109\"/>\n",
       "       <use xlink:href=\"#DejaVuSans-35\" x=\"179.199219\"/>\n",
       "      </g>\n",
       "     </g>\n",
       "    </g>\n",
       "    <g id=\"xtick_5\">\n",
       "     <g id=\"line2d_5\">\n",
       "      <g>\n",
       "       <use xlink:href=\"#m3532739483\" x=\"379.645313\" y=\"232.759219\" style=\"stroke: #000000; stroke-width: 0.8\"/>\n",
       "      </g>\n",
       "     </g>\n",
       "     <g id=\"text_5\">\n",
       "      <!-- 0.0 -->\n",
       "      <g transform=\"translate(371.69375 247.357656)scale(0.1 -0.1)\">\n",
       "       <use xlink:href=\"#DejaVuSans-30\"/>\n",
       "       <use xlink:href=\"#DejaVuSans-2e\" x=\"63.623047\"/>\n",
       "       <use xlink:href=\"#DejaVuSans-30\" x=\"95.410156\"/>\n",
       "      </g>\n",
       "     </g>\n",
       "    </g>\n",
       "    <g id=\"xtick_6\">\n",
       "     <g id=\"line2d_6\">\n",
       "      <g>\n",
       "       <use xlink:href=\"#m3532739483\" x=\"463.345313\" y=\"232.759219\" style=\"stroke: #000000; stroke-width: 0.8\"/>\n",
       "      </g>\n",
       "     </g>\n",
       "     <g id=\"text_6\">\n",
       "      <!-- 2.5 -->\n",
       "      <g transform=\"translate(455.39375 247.357656)scale(0.1 -0.1)\">\n",
       "       <use xlink:href=\"#DejaVuSans-32\"/>\n",
       "       <use xlink:href=\"#DejaVuSans-2e\" x=\"63.623047\"/>\n",
       "       <use xlink:href=\"#DejaVuSans-35\" x=\"95.410156\"/>\n",
       "      </g>\n",
       "     </g>\n",
       "    </g>\n",
       "    <g id=\"xtick_7\">\n",
       "     <g id=\"line2d_7\">\n",
       "      <g>\n",
       "       <use xlink:href=\"#m3532739483\" x=\"547.045313\" y=\"232.759219\" style=\"stroke: #000000; stroke-width: 0.8\"/>\n",
       "      </g>\n",
       "     </g>\n",
       "     <g id=\"text_7\">\n",
       "      <!-- 5.0 -->\n",
       "      <g transform=\"translate(539.09375 247.357656)scale(0.1 -0.1)\">\n",
       "       <use xlink:href=\"#DejaVuSans-35\"/>\n",
       "       <use xlink:href=\"#DejaVuSans-2e\" x=\"63.623047\"/>\n",
       "       <use xlink:href=\"#DejaVuSans-30\" x=\"95.410156\"/>\n",
       "      </g>\n",
       "     </g>\n",
       "    </g>\n",
       "    <g id=\"xtick_8\">\n",
       "     <g id=\"line2d_8\">\n",
       "      <g>\n",
       "       <use xlink:href=\"#m3532739483\" x=\"630.745313\" y=\"232.759219\" style=\"stroke: #000000; stroke-width: 0.8\"/>\n",
       "      </g>\n",
       "     </g>\n",
       "     <g id=\"text_8\">\n",
       "      <!-- 7.5 -->\n",
       "      <g transform=\"translate(622.79375 247.357656)scale(0.1 -0.1)\">\n",
       "       <use xlink:href=\"#DejaVuSans-37\"/>\n",
       "       <use xlink:href=\"#DejaVuSans-2e\" x=\"63.623047\"/>\n",
       "       <use xlink:href=\"#DejaVuSans-35\" x=\"95.410156\"/>\n",
       "      </g>\n",
       "     </g>\n",
       "    </g>\n",
       "    <g id=\"xtick_9\">\n",
       "     <g id=\"line2d_9\">\n",
       "      <g>\n",
       "       <use xlink:href=\"#m3532739483\" x=\"714.445313\" y=\"232.759219\" style=\"stroke: #000000; stroke-width: 0.8\"/>\n",
       "      </g>\n",
       "     </g>\n",
       "     <g id=\"text_9\">\n",
       "      <!-- 10.0 -->\n",
       "      <g transform=\"translate(703.3125 247.357656)scale(0.1 -0.1)\">\n",
       "       <use xlink:href=\"#DejaVuSans-31\"/>\n",
       "       <use xlink:href=\"#DejaVuSans-30\" x=\"63.623047\"/>\n",
       "       <use xlink:href=\"#DejaVuSans-2e\" x=\"127.246094\"/>\n",
       "       <use xlink:href=\"#DejaVuSans-30\" x=\"159.033203\"/>\n",
       "      </g>\n",
       "     </g>\n",
       "    </g>\n",
       "   </g>\n",
       "   <g id=\"matplotlib.axis_2\">\n",
       "    <g id=\"ytick_1\">\n",
       "     <g id=\"line2d_10\">\n",
       "      <defs>\n",
       "       <path id=\"m6772bb0765\" d=\"M 0 0 \n",
       "L -3.5 0 \n",
       "\" style=\"stroke: #000000; stroke-width: 0.8\"/>\n",
       "      </defs>\n",
       "      <g>\n",
       "       <use xlink:href=\"#m6772bb0765\" x=\"44.845313\" y=\"232.759219\" style=\"stroke: #000000; stroke-width: 0.8\"/>\n",
       "      </g>\n",
       "     </g>\n",
       "     <g id=\"text_10\">\n",
       "      <!-- −10.0 -->\n",
       "      <g transform=\"translate(7.2 236.558438)scale(0.1 -0.1)\">\n",
       "       <use xlink:href=\"#DejaVuSans-2212\"/>\n",
       "       <use xlink:href=\"#DejaVuSans-31\" x=\"83.789062\"/>\n",
       "       <use xlink:href=\"#DejaVuSans-30\" x=\"147.412109\"/>\n",
       "       <use xlink:href=\"#DejaVuSans-2e\" x=\"211.035156\"/>\n",
       "       <use xlink:href=\"#DejaVuSans-30\" x=\"242.822266\"/>\n",
       "      </g>\n",
       "     </g>\n",
       "    </g>\n",
       "    <g id=\"ytick_2\">\n",
       "     <g id=\"line2d_11\">\n",
       "      <g>\n",
       "       <use xlink:href=\"#m6772bb0765\" x=\"44.845313\" y=\"205.039219\" style=\"stroke: #000000; stroke-width: 0.8\"/>\n",
       "      </g>\n",
       "     </g>\n",
       "     <g id=\"text_11\">\n",
       "      <!-- −7.5 -->\n",
       "      <g transform=\"translate(13.5625 208.838438)scale(0.1 -0.1)\">\n",
       "       <use xlink:href=\"#DejaVuSans-2212\"/>\n",
       "       <use xlink:href=\"#DejaVuSans-37\" x=\"83.789062\"/>\n",
       "       <use xlink:href=\"#DejaVuSans-2e\" x=\"147.412109\"/>\n",
       "       <use xlink:href=\"#DejaVuSans-35\" x=\"179.199219\"/>\n",
       "      </g>\n",
       "     </g>\n",
       "    </g>\n",
       "    <g id=\"ytick_3\">\n",
       "     <g id=\"line2d_12\">\n",
       "      <g>\n",
       "       <use xlink:href=\"#m6772bb0765\" x=\"44.845313\" y=\"177.319219\" style=\"stroke: #000000; stroke-width: 0.8\"/>\n",
       "      </g>\n",
       "     </g>\n",
       "     <g id=\"text_12\">\n",
       "      <!-- −5.0 -->\n",
       "      <g transform=\"translate(13.5625 181.118437)scale(0.1 -0.1)\">\n",
       "       <use xlink:href=\"#DejaVuSans-2212\"/>\n",
       "       <use xlink:href=\"#DejaVuSans-35\" x=\"83.789062\"/>\n",
       "       <use xlink:href=\"#DejaVuSans-2e\" x=\"147.412109\"/>\n",
       "       <use xlink:href=\"#DejaVuSans-30\" x=\"179.199219\"/>\n",
       "      </g>\n",
       "     </g>\n",
       "    </g>\n",
       "    <g id=\"ytick_4\">\n",
       "     <g id=\"line2d_13\">\n",
       "      <g>\n",
       "       <use xlink:href=\"#m6772bb0765\" x=\"44.845313\" y=\"149.599219\" style=\"stroke: #000000; stroke-width: 0.8\"/>\n",
       "      </g>\n",
       "     </g>\n",
       "     <g id=\"text_13\">\n",
       "      <!-- −2.5 -->\n",
       "      <g transform=\"translate(13.5625 153.398438)scale(0.1 -0.1)\">\n",
       "       <use xlink:href=\"#DejaVuSans-2212\"/>\n",
       "       <use xlink:href=\"#DejaVuSans-32\" x=\"83.789062\"/>\n",
       "       <use xlink:href=\"#DejaVuSans-2e\" x=\"147.412109\"/>\n",
       "       <use xlink:href=\"#DejaVuSans-35\" x=\"179.199219\"/>\n",
       "      </g>\n",
       "     </g>\n",
       "    </g>\n",
       "    <g id=\"ytick_5\">\n",
       "     <g id=\"line2d_14\">\n",
       "      <g>\n",
       "       <use xlink:href=\"#m6772bb0765\" x=\"44.845313\" y=\"121.879219\" style=\"stroke: #000000; stroke-width: 0.8\"/>\n",
       "      </g>\n",
       "     </g>\n",
       "     <g id=\"text_14\">\n",
       "      <!-- 0.0 -->\n",
       "      <g transform=\"translate(21.942188 125.678438)scale(0.1 -0.1)\">\n",
       "       <use xlink:href=\"#DejaVuSans-30\"/>\n",
       "       <use xlink:href=\"#DejaVuSans-2e\" x=\"63.623047\"/>\n",
       "       <use xlink:href=\"#DejaVuSans-30\" x=\"95.410156\"/>\n",
       "      </g>\n",
       "     </g>\n",
       "    </g>\n",
       "    <g id=\"ytick_6\">\n",
       "     <g id=\"line2d_15\">\n",
       "      <g>\n",
       "       <use xlink:href=\"#m6772bb0765\" x=\"44.845313\" y=\"94.159219\" style=\"stroke: #000000; stroke-width: 0.8\"/>\n",
       "      </g>\n",
       "     </g>\n",
       "     <g id=\"text_15\">\n",
       "      <!-- 2.5 -->\n",
       "      <g transform=\"translate(21.942188 97.958438)scale(0.1 -0.1)\">\n",
       "       <use xlink:href=\"#DejaVuSans-32\"/>\n",
       "       <use xlink:href=\"#DejaVuSans-2e\" x=\"63.623047\"/>\n",
       "       <use xlink:href=\"#DejaVuSans-35\" x=\"95.410156\"/>\n",
       "      </g>\n",
       "     </g>\n",
       "    </g>\n",
       "    <g id=\"ytick_7\">\n",
       "     <g id=\"line2d_16\">\n",
       "      <g>\n",
       "       <use xlink:href=\"#m6772bb0765\" x=\"44.845313\" y=\"66.439219\" style=\"stroke: #000000; stroke-width: 0.8\"/>\n",
       "      </g>\n",
       "     </g>\n",
       "     <g id=\"text_16\">\n",
       "      <!-- 5.0 -->\n",
       "      <g transform=\"translate(21.942188 70.238438)scale(0.1 -0.1)\">\n",
       "       <use xlink:href=\"#DejaVuSans-35\"/>\n",
       "       <use xlink:href=\"#DejaVuSans-2e\" x=\"63.623047\"/>\n",
       "       <use xlink:href=\"#DejaVuSans-30\" x=\"95.410156\"/>\n",
       "      </g>\n",
       "     </g>\n",
       "    </g>\n",
       "    <g id=\"ytick_8\">\n",
       "     <g id=\"line2d_17\">\n",
       "      <g>\n",
       "       <use xlink:href=\"#m6772bb0765\" x=\"44.845313\" y=\"38.719219\" style=\"stroke: #000000; stroke-width: 0.8\"/>\n",
       "      </g>\n",
       "     </g>\n",
       "     <g id=\"text_17\">\n",
       "      <!-- 7.5 -->\n",
       "      <g transform=\"translate(21.942188 42.518437)scale(0.1 -0.1)\">\n",
       "       <use xlink:href=\"#DejaVuSans-37\"/>\n",
       "       <use xlink:href=\"#DejaVuSans-2e\" x=\"63.623047\"/>\n",
       "       <use xlink:href=\"#DejaVuSans-35\" x=\"95.410156\"/>\n",
       "      </g>\n",
       "     </g>\n",
       "    </g>\n",
       "    <g id=\"ytick_9\">\n",
       "     <g id=\"line2d_18\">\n",
       "      <g>\n",
       "       <use xlink:href=\"#m6772bb0765\" x=\"44.845313\" y=\"10.999219\" style=\"stroke: #000000; stroke-width: 0.8\"/>\n",
       "      </g>\n",
       "     </g>\n",
       "     <g id=\"text_18\">\n",
       "      <!-- 10.0 -->\n",
       "      <g transform=\"translate(15.579688 14.798438)scale(0.1 -0.1)\">\n",
       "       <use xlink:href=\"#DejaVuSans-31\"/>\n",
       "       <use xlink:href=\"#DejaVuSans-30\" x=\"63.623047\"/>\n",
       "       <use xlink:href=\"#DejaVuSans-2e\" x=\"127.246094\"/>\n",
       "       <use xlink:href=\"#DejaVuSans-30\" x=\"159.033203\"/>\n",
       "      </g>\n",
       "     </g>\n",
       "    </g>\n",
       "   </g>\n",
       "   <g id=\"patch_3\">\n",
       "    <path d=\"M 44.845313 232.759219 \n",
       "L 44.845313 10.999219 \n",
       "\" style=\"fill: none; stroke: #000000; stroke-width: 0.8; stroke-linejoin: miter; stroke-linecap: square\"/>\n",
       "   </g>\n",
       "   <g id=\"patch_4\">\n",
       "    <path d=\"M 714.445312 232.759219 \n",
       "L 714.445312 10.999219 \n",
       "\" style=\"fill: none; stroke: #000000; stroke-width: 0.8; stroke-linejoin: miter; stroke-linecap: square\"/>\n",
       "   </g>\n",
       "   <g id=\"patch_5\">\n",
       "    <path d=\"M 44.845312 232.759219 \n",
       "L 714.445313 232.759219 \n",
       "\" style=\"fill: none; stroke: #000000; stroke-width: 0.8; stroke-linejoin: miter; stroke-linecap: square\"/>\n",
       "   </g>\n",
       "   <g id=\"patch_6\">\n",
       "    <path d=\"M 44.845312 10.999219 \n",
       "L 714.445313 10.999219 \n",
       "\" style=\"fill: none; stroke: #000000; stroke-width: 0.8; stroke-linejoin: miter; stroke-linecap: square\"/>\n",
       "   </g>\n",
       "  </g>\n",
       " </g>\n",
       " <defs>\n",
       "  <clipPath id=\"p3f2a5d28a6\">\n",
       "   <rect x=\"44.845313\" y=\"10.999219\" width=\"669.6\" height=\"221.76\"/>\n",
       "  </clipPath>\n",
       " </defs>\n",
       "</svg>\n"
      ],
      "text/plain": [
       "<Figure size 2400x800 with 1 Axes>"
      ]
     },
     "metadata": {},
     "output_type": "display_data"
    }
   ],
   "source": [
    "plt.quiver([0, 0, 0], [0, 0, 0], [3, 5*1, 0], [-4, 0, 5*-1], angles='xy', scale_units='xy', scale=1, color=['r', 'black', 'black'])\n",
    "plt.xlim(-10, 10)\n",
    "plt.ylim(-10, 10)\n",
    "plt.show();"
   ]
  },
  {
   "cell_type": "markdown",
   "metadata": {
    "slideshow": {
     "slide_type": "subslide"
    }
   },
   "source": [
    "We can represent this vector as a linear combination of unit vectors $\\hat{x} = (1,0)$ and $\\hat{y} = (0,1)$"
   ]
  },
  {
   "cell_type": "markdown",
   "metadata": {},
   "source": [
    "$$\\vec{v} = A\\hat{x} + B\\hat{y}$$"
   ]
  },
  {
   "cell_type": "markdown",
   "metadata": {
    "slideshow": {
     "slide_type": "subslide"
    }
   },
   "source": [
    "To find $A$ and $B$, we simply take the dot product of $\\vec{v}$ with $\\hat{x}$ and $\\hat{y}$ respectively."
   ]
  },
  {
   "cell_type": "markdown",
   "metadata": {},
   "source": [
    "$$A = \\vec{v} \\cdot \\hat{x} = 3\\cdot1 + 4\\cdot0 = 3$$\n",
    "$$B = \\vec{v} \\cdot \\hat{y} = 3\\cdot0 + 4\\cdot1 = 4$$"
   ]
  },
  {
   "cell_type": "markdown",
   "metadata": {
    "slideshow": {
     "slide_type": "subslide"
    }
   },
   "source": [
    "Or, to put it another way"
   ]
  },
  {
   "cell_type": "markdown",
   "metadata": {},
   "source": [
    "$$\\vec{v} = \\sum_{n=0}^{N} (\\vec{v} \\cdot \\hat{x}_n)\\hat{x}_n$$"
   ]
  },
  {
   "cell_type": "markdown",
   "metadata": {
    "slideshow": {
     "slide_type": "slide"
    }
   },
   "source": [
    "This example is painfully trivial, but let's now consider an alternate coordinate system in which $\\hat{x}' = \\left(\\frac{\\sqrt{3}}{2}, \\frac{1}{2}\\right)$ and $\\hat{y}' = \\left(\\frac{-1}{2}, \\frac{\\sqrt{3}}{2}\\right)$"
   ]
  },
  {
   "cell_type": "code",
   "execution_count": null,
   "metadata": {},
   "outputs": [],
   "source": [
    "plt.quiver([0, 0, 0], [0, 0, 0], [3, 5*np.sqrt(3)/2, 5*-1/2], [-4, 5*-1/2, 5*-np.sqrt(3)/2], angles='xy', scale_units='xy', scale=1, color=['r', 'b', 'b'])\n",
    "plt.xlim(-10, 10)\n",
    "plt.ylim(-10, 10)\n",
    "plt.show()"
   ]
  },
  {
   "cell_type": "markdown",
   "metadata": {
    "slideshow": {
     "slide_type": "subslide"
    }
   },
   "source": [
    "To represent $\\vec{v}$ in this new coordinate system, ($\\vec{v}'$), we replace $\\hat{x}_n$ with $\\hat{x}_n'$ in the previous equation."
   ]
  },
  {
   "cell_type": "markdown",
   "metadata": {},
   "source": [
    "$$\\vec{v}' = \\sum_{n=0}^{N} (\\vec{v} \\cdot \\hat{x}_n')\\hat{x}'_n$$\n",
    "\n",
    "$$ = (3, 4) \\cdot \\left(\\frac{\\sqrt{3}}{2}, \\frac{1}{2}\\right) \\hat{x}' + (3, 4) \\cdot \\left(\\frac{-1}{2}, \\frac{\\sqrt{3}}{2}\\right) \\hat{y}'$$\n",
    "$$ = \\left(3 \\cdot \\frac{\\sqrt{3}}{2} + 4 \\cdot \\frac{1}{2}\\right)\\hat{x}' + \\left(3 \\cdot \\frac{-1}{2} + 4 \\cdot\n",
    "\\frac{\\sqrt{3}}{2}\\right)\\hat{y}'$$\n",
    "$$ $$\n",
    "$$ = \\left(\\frac{3\\sqrt{3} + 4}{2}, \\frac{4\\sqrt{3} - 3}{2}\\right)$$"
   ]
  },
  {
   "cell_type": "markdown",
   "metadata": {
    "slideshow": {
     "slide_type": "subslide"
    }
   },
   "source": [
    "Note that our old unit vectors can be written in the new coordinate system as follows:"
   ]
  },
  {
   "cell_type": "markdown",
   "metadata": {},
   "source": [
    "$$\\hat{x} = \\frac{\\sqrt{3}}{2}\\hat{x}' - \\frac{1}{2}\\hat{y}'$$\n",
    "$$$$\n",
    "$$\\hat{y} = \\frac{1}{2}\\hat{x}' + \\frac{\\sqrt{3}}{2}\\hat{y}'$$"
   ]
  },
  {
   "cell_type": "markdown",
   "metadata": {
    "slideshow": {
     "slide_type": "subslide"
    }
   },
   "source": [
    "And we can get $\\vec{v}$ back with same formula that we used to derive $\\vec{v}'$:"
   ]
  },
  {
   "cell_type": "markdown",
   "metadata": {},
   "source": [
    "$$\\vec{v} = \\sum_{n=0}^{N} (\\vec{v}' \\cdot \\hat{x}_n)\\hat{x}_n$$\n",
    "$$ = \\left(\\frac{3\\sqrt{3} + 4}{2}, \\frac{4\\sqrt{3} - 3}{2}\\right) \\cdot \\left(\\frac{\\sqrt{3}}{2}, -\\frac{1}{2}\\right) \\hat{x} + \\left(\\frac{3\\sqrt{3} + 4}{2}, \\frac{4\\sqrt{3} - 3}{2}\\right) \\cdot \\left(\\frac{1}{2}, \\frac{\\sqrt{3}}{2}\\right) \\hat{y}'$$\n",
    "$$ = \\left(3, 4\\right)$$"
   ]
  },
  {
   "cell_type": "markdown",
   "metadata": {
    "slideshow": {
     "slide_type": "slide"
    }
   },
   "source": [
    "### So why go through all of that nonsense?\n",
    "\n",
    " - $\\hat{x}$ and $\\hat{y}$ form an __orthonormal basis__ of the 2D plane, as do $\\hat{x}'$ and $\\hat{y}'$\n",
    "     - __Basis:__ a set of elements within a vector space such that __*any*__ other vector within the space can be represented as a linear combination of elements within the basis\n",
    "         - $A\\hat{x} + B\\hat{y}$\n",
    "     - __Orthogonal:__ Dot product of different elements is $0$.\n",
    "     - __Normal:__ Dot product of an element with itself is $1$.\n",
    " - You can move from one coordinate system to another without any loss of information.\n",
    " - There is a beautiful symmetry to this process.\n",
    "$$\\vec{v}' = \\sum_{n=0}^{N} (\\vec{v} \\cdot \\hat{x}_n')\\hat{x}'_n  \\Rightarrow \\vec{v}' = X\\vec{v}$$\n",
    "$$\\vec{v} = \\sum_{n=0}^{N} (\\vec{v}' \\cdot \\hat{x}_n)\\hat{x}_n \\Rightarrow \\vec{v} = X^{-1}\\vec{v}'$$\n",
    "\n",
    "Where $X = \\begin{pmatrix}\\frac{\\sqrt{3}}{2} & -\\frac{1}{2} \\\\ \\frac{1}{2} & \\frac{\\sqrt{3}}{2}\\end{pmatrix}$, a matrix with our primed basis vectors as columns. "
   ]
  },
  {
   "cell_type": "markdown",
   "metadata": {
    "slideshow": {
     "slide_type": "slide"
    }
   },
   "source": [
    "### The DFT equation is shown below:"
   ]
  },
  {
   "cell_type": "markdown",
   "metadata": {
    "scrolled": false
   },
   "source": [
    "$$X[k] = \\sum_{n=0}^{N-1} x(n) \\cdot e^{-j 2\\pi k n/N} , k = 0, ..., N-1$$"
   ]
  },
  {
   "cell_type": "markdown",
   "metadata": {},
   "source": [
    "Or, you may have seen the exponent written like this:\n",
    "\n",
    "$$e^{-j \\omega t}$$"
   ]
  },
  {
   "cell_type": "markdown",
   "metadata": {
    "slideshow": {
     "slide_type": "slide"
    }
   },
   "source": [
    "$$X[k] = \\sum_{n=0}^{N-1} x(n) \\cdot e^{-j 2\\pi k n/N} , k = 0, ..., N-1$$\n",
    "\n",
    "Where:  \n",
    "$n$ = discrete time index<br>\n",
    "$k$ = discrete frequency index<br>\n",
    "$N$ = total number of samples<br>\n",
    "$\\omega_{k}$ = $2\\pi k/N$ = frequency in radians"
   ]
  },
  {
   "cell_type": "markdown",
   "metadata": {},
   "source": [
    "This equation is at the heart of all signal processing theory.\n",
    "\n",
    "__Key Insight:__ $e^{j 2\\pi k n/N}; k = 0, ..., N-1$ is an orthonormal basis for periodic signals.\n",
    " - For non-periodic signals, allow k to be continuous.\n",
    " \n",
    "The Fourier transform is shifting our original signal into a new coordinate system."
   ]
  },
  {
   "cell_type": "markdown",
   "metadata": {
    "slideshow": {
     "slide_type": "skip"
    }
   },
   "source": [
    "### Sidebar: This has MASSIVELY important in several areas of science\n",
    "\n",
    "The Fourier transform is used extensively in any branch of science or engineering involving systems whose rate of change, i.e. their derivative, is a function of their current value. These include things like:\n",
    " - The population of organisms in an ecosystem.\n",
    " - The value of a stock.\n",
    " - The infection rate of a deadly disease.\n",
    "\n",
    "This is because differention in the time domain is equivalent to multiplying by $j\\omega$ in the frequency domain."
   ]
  },
  {
   "cell_type": "markdown",
   "metadata": {
    "slideshow": {
     "slide_type": "slide"
    }
   },
   "source": [
    "$$X[k] = \\sum_{n=0}^{N-1} x(n) \\cdot e^{-j 2\\pi k n/N} k = 0, ..., N-1$$"
   ]
  },
  {
   "cell_type": "markdown",
   "metadata": {},
   "source": [
    "$x[n]$ is the input signal, where sample by sample is multiplied by a complex sinusoid at each value of k, then we sum over N (the number of samples), and as a result we obtain the spectrum (a vector)."
   ]
  },
  {
   "cell_type": "markdown",
   "metadata": {
    "slideshow": {
     "slide_type": "slide"
    }
   },
   "source": [
    "The spectrum obtained by the DFT returns a complex function that can be expressed with a magnitude and a phase. In the magnitude spectrum, we identify the frequency content of the signal. And in the phase spectrum, we see how the sinusoids are placed within the cycle length in radians with respect to time = zero."
   ]
  },
  {
   "cell_type": "markdown",
   "metadata": {
    "slideshow": {
     "slide_type": "slide"
    }
   },
   "source": [
    "Recall that using Euler's formula we can translate the complex exponential into the cosine (real) and sine (imaginary) parts of the same frequency:\n",
    "\n",
    "$$e^{-j 2\\pi k n/N} = \\cos(2\\pi k n/N) - j\\sin(2\\pi k n/N)$$"
   ]
  },
  {
   "cell_type": "markdown",
   "metadata": {
    "slideshow": {
     "slide_type": "fragment"
    }
   },
   "source": [
    "### Complex Numbers\n",
    "The equation above is the \"meat and potatoes\" of the DFT. It is built on Euler's identity:\n",
    "\n",
    "$e ^{j\\pi} +1 =0$\n",
    "\n",
    "which is famous for bringing together the five most important numbers in mathematics."
   ]
  },
  {
   "cell_type": "markdown",
   "metadata": {
    "slideshow": {
     "slide_type": "subslide"
    }
   },
   "source": [
    "A complex number is any number with a real and an imaginary component. The complex number can be written as $a+jb$ where $j$ (or $i$) is the imaginary unit."
   ]
  },
  {
   "cell_type": "markdown",
   "metadata": {
    "slideshow": {
     "slide_type": "subslide"
    }
   },
   "source": [
    "Knowing how to manipulate these complex numbers is therefore useful."
   ]
  },
  {
   "cell_type": "markdown",
   "metadata": {
    "slideshow": {
     "slide_type": "subslide"
    }
   },
   "source": [
    "$a$ is called the `real` part of the number and $b$ is called the `imaginary` part of the number"
   ]
  },
  {
   "cell_type": "code",
   "execution_count": null,
   "metadata": {
    "slideshow": {
     "slide_type": "slide"
    }
   },
   "outputs": [],
   "source": [
    "from IPython.display import Image\n",
    "Image('../images/polarRectangular.png',width=400)"
   ]
  },
  {
   "cell_type": "markdown",
   "metadata": {
    "slideshow": {
     "slide_type": "slide"
    }
   },
   "source": [
    "#### Rectangular to polar form of complex numbers"
   ]
  },
  {
   "cell_type": "markdown",
   "metadata": {},
   "source": [
    "So we can express a point in a complex plane (i.e., a sample) in three ways:\n",
    "\n",
    "$Z = a + jb$\n",
    "\n",
    "or\n",
    "\n",
    "$Z = r \\angle \\theta$\n",
    "\n",
    "or\n",
    "\n",
    "$Z = r(cos\\ \\theta + j\\ sin\\ \\theta)$"
   ]
  },
  {
   "cell_type": "markdown",
   "metadata": {
    "slideshow": {
     "slide_type": "subslide"
    }
   },
   "source": [
    "conversion reminders:\n",
    "To convert between these forms, the following are helpful reminders:\n",
    "\n",
    "$sin\\theta = \\frac{b}{r}$\n",
    "\n",
    "$cos\\theta = \\frac{a}{r}$\n",
    "\n",
    "$r = \\sqrt{a^2 + b^2} $\n",
    "\n",
    "$\\theta = arctan(\\frac{b}{a})$\n",
    "\n",
    "Or, to convert from polar to rectangular:\n",
    "\n",
    "$a = r\\ cos\\theta$\n",
    "\n",
    "$b = r\\ sin\\theta$"
   ]
  },
  {
   "cell_type": "markdown",
   "metadata": {
    "slideshow": {
     "slide_type": "subslide"
    }
   },
   "source": [
    "The absolute value of $Z$ is equal to $\\sqrt{a^2 + b^2}$ which represents the length of the radius. This translates to the magnitude (or amplitude) of the sinusoidal component"
   ]
  },
  {
   "cell_type": "markdown",
   "metadata": {
    "slideshow": {
     "slide_type": "subslide"
    }
   },
   "source": [
    "The argument of Z is equal to $arctan(\\frac{b}{a})$ which represents the phase of the component"
   ]
  },
  {
   "cell_type": "markdown",
   "metadata": {
    "slideshow": {
     "slide_type": "subslide"
    }
   },
   "source": [
    "And recall that there is nothing \"imaginary\" about $j$, it is simply a number whose square equals one: \n",
    "\n",
    "$j = \\sqrt{-1}$"
   ]
  },
  {
   "cell_type": "markdown",
   "metadata": {
    "slideshow": {
     "slide_type": "slide"
    }
   },
   "source": [
    "## Back to DFT..."
   ]
  },
  {
   "cell_type": "markdown",
   "metadata": {
    "slideshow": {
     "slide_type": "-"
    }
   },
   "source": [
    "If we want to perform a DFT on a signal of size N = 4, we will have 4 samples (n=0,1,2,3) and therefore 4 frequency bins (k=0,1,2,3) as output of the DFT. If we model this output for some sample, s, of length 4, we can see the signal will be projected to these four sine waves.\n",
    "\n",
    "$s_0 = \\cos(2\\pi * 0 * n/4) - j\\sin(2\\pi * 0 * n/4) = [1,1,1,1]$  \n",
    "$s_1 = \\cos(2\\pi * 1 * n/4) - j\\sin(2\\pi * 1 * n/4) = [1,-j,-1,j]$  \n",
    "$s_2 = \\cos(2\\pi * 2 * n/4) - j\\sin(2\\pi * 2 * n/4) = [1,-1,1,-1]$  \n",
    "$s_3 = \\cos(2\\pi * 3 * n/4) - j\\sin(2\\pi * 3 * n/4) = [1,j,-1,-j]$"
   ]
  },
  {
   "cell_type": "markdown",
   "metadata": {
    "slideshow": {
     "slide_type": "subslide"
    }
   },
   "source": [
    "If we create a concrete example where x[n] = [1,-1,1,-1] and compute the **scalar product** (or **dot product** e.g., multiply the signal by each basis function and sum):"
   ]
  },
  {
   "cell_type": "code",
   "execution_count": null,
   "metadata": {},
   "outputs": [],
   "source": [
    "import numpy as np\n",
    "sig=np.array([1,-1,1,-1]) #create example signal\n",
    "X_k = np.array([])\n",
    "\n",
    "for k in range(4): \n",
    "    n_k = np.array([])\n",
    "    for n in range(4):\n",
    "        s_i = np.cos(2*np.pi*k*(n/4)) - 1j*(np.sin(2*np.pi*k*(n/4))) #create each sample of each basis function at all values of k\n",
    "        print('n=',n,s_i)\n",
    "        n_k = np.append(n_k, s_i)\n",
    "    print('k equals',k,':',n_k)\n",
    "    sc_prod = sum(n_k*sig) #compute scalar product of signal and basis function\n",
    "    #there is also a numpy function for this: \n",
    "    #sc_prod = np.dot(n_k,sig)\n",
    "    X_k=np.append(X_k,sc_prod)\n",
    "\n",
    "np.round(np.abs(X_k),1) # all of signal projects onto k = 2"
   ]
  },
  {
   "cell_type": "markdown",
   "metadata": {
    "slideshow": {
     "slide_type": "slide"
    }
   },
   "source": [
    "The absolute value of the scalar product may be interpreted as a measure of similarity between two vectors $x$ and $y$: if $x$ and $y$ point to the same direction (i.e., they are similar), the scalar product $|⟨𝑥|𝑦⟩|$ is large. If $x$ and $y$ are orthogonal (i.e., they are dissimilar), the inner product $|⟨𝑥|𝑦⟩|$ is zero."
   ]
  },
  {
   "cell_type": "markdown",
   "metadata": {
    "slideshow": {
     "slide_type": "subslide"
    }
   },
   "source": [
    "Note: k is an index of a frequency bin. It is a frequency normalized over N (i.e., the total number of samples used in the transformation), while f usualy denotes frequency in Hz. It's basically the same thing in different units. \"k\" is the number of periods in the N samples, \"f\" is the number of periods in a single second (or, usually, in 44,100 samples)."
   ]
  },
  {
   "cell_type": "markdown",
   "metadata": {
    "slideshow": {
     "slide_type": "subslide"
    }
   },
   "source": [
    "So, in other words, we essentially extract the energy under each of these frequency \"bins\", or k periods inside the N samples. Think of the above as four \"filters\" to measure each possible \"sinusoidal ingredient.\""
   ]
  },
  {
   "cell_type": "markdown",
   "metadata": {
    "slideshow": {
     "slide_type": "slide"
    }
   },
   "source": [
    "Let's look at a basic example. We'll generate a complex sinusoid of length 64 and k = 7. So this means we will have seven cycles over the time period of length N (64)."
   ]
  },
  {
   "cell_type": "code",
   "execution_count": null,
   "metadata": {
    "slideshow": {
     "slide_type": "-"
    }
   },
   "outputs": [],
   "source": [
    "N = 64\n",
    "k0 = 7 \n",
    "n = np.arange(0,N)\n",
    "s = np.exp(1j * 2 * np.pi * k0 * n / N) # this is our complex sinusoidal signal of N=64 and k=7"
   ]
  },
  {
   "cell_type": "code",
   "execution_count": null,
   "metadata": {
    "slideshow": {
     "slide_type": "fragment"
    }
   },
   "outputs": [],
   "source": [
    "plt.plot(n, np.real(s), n, np.imag(s)) # here we can see it plotted to make sure it looks right."
   ]
  },
  {
   "cell_type": "code",
   "execution_count": null,
   "metadata": {
    "slideshow": {
     "slide_type": "slide"
    }
   },
   "outputs": [],
   "source": [
    "plt.magnitude_spectrum(s, N); #recall pyplot's \"magnitude_spectrum\" plotting function"
   ]
  },
  {
   "cell_type": "markdown",
   "metadata": {
    "slideshow": {
     "slide_type": "fragment"
    }
   },
   "source": [
    "Obviously, this is very perfect. It means that the entire signal projects onto one single basis function of the DFT (k = 7). This never happens when dealing with \"real world\" signals."
   ]
  },
  {
   "cell_type": "markdown",
   "metadata": {
    "slideshow": {
     "slide_type": "slide"
    }
   },
   "source": [
    "Let's figure out how to compose our DFT algorithm ourselves and demonstrate first with a complex sinusoid."
   ]
  },
  {
   "cell_type": "code",
   "execution_count": null,
   "metadata": {},
   "outputs": [],
   "source": [
    "#First, create input signal, \"s\" with same properties as before\n",
    "N = 64\n",
    "k0 = 7 \n",
    "n = np.arange(0,N)\n",
    "s = np.exp(1j * 2 * np.pi * k0 * n / N) #create complex signal\n",
    "\n",
    "X = np.array([]) #create empty array\n",
    "#iterate over all sample indices:\n",
    "for k in range(N):\n",
    "    xp = np.exp(-1j * 2 * np.pi * k * n / N) #create complex exponential (i.e., frequency) at every k\n",
    "    X = np.append(X, sum(s*xp))"
   ]
  },
  {
   "cell_type": "markdown",
   "metadata": {
    "slideshow": {
     "slide_type": "slide"
    }
   },
   "source": [
    "To have a slightly more intuitive understanding of what's happening here, we can plot each `xp` against the signal, and we can show a 'dot' for the value of the dot product:"
   ]
  },
  {
   "cell_type": "code",
   "execution_count": null,
   "metadata": {},
   "outputs": [],
   "source": [
    "plt.plot(s.real)\n",
    "xp = np.exp(-1j * 2 * np.pi * 7 * n / N)#manually change values of k\n",
    "plt.plot(xp.real)\n",
    "plt.plot(sum(s*xp), marker='o')"
   ]
  },
  {
   "cell_type": "markdown",
   "metadata": {
    "slideshow": {
     "slide_type": "slide"
    }
   },
   "source": [
    "\"X\" is the output of the DFT which is a complex vector of the magnitude and phase of each component k in the signal\n",
    "X.\n",
    "Recall that it had a periodicity equal to 7:"
   ]
  },
  {
   "cell_type": "code",
   "execution_count": null,
   "metadata": {
    "slideshow": {
     "slide_type": "slide"
    }
   },
   "outputs": [],
   "source": [
    "plt.plot(X)\n",
    "plt.title('Spectrum of signal')\n",
    "plt.xlabel('frequency components k')\n",
    "plt.ylabel('magnitude')"
   ]
  },
  {
   "cell_type": "markdown",
   "metadata": {
    "slideshow": {
     "slide_type": "slide"
    }
   },
   "source": [
    "Recall that magnitude spectrum for a complex sinusoid will have a single value, whereas a real sinusoid will have two (one positive, one negative around center at 0)"
   ]
  },
  {
   "cell_type": "markdown",
   "metadata": {
    "slideshow": {
     "slide_type": "slide"
    }
   },
   "source": [
    "Let's demonstrate how this works with a real sinusoid. Recall that a real sinusoid will have *two* complex exponential results (the sum of two complex exponentials), so our DFT output will show two peaks. \n",
    "\n",
    "$$\\cos(\\omega t) = \\frac{1}{2}(e^{j \\omega t} + e^{-j \\omega t})$$"
   ]
  },
  {
   "cell_type": "markdown",
   "metadata": {},
   "source": [
    "(Where the first exponential represents a counter-clockwise rotating sinusoid and the second is a clockwise rotating sinusoid.)"
   ]
  },
  {
   "cell_type": "markdown",
   "metadata": {
    "slideshow": {
     "slide_type": "slide"
    }
   },
   "source": [
    "We'll create a real-valued signal with the same properties as before:"
   ]
  },
  {
   "cell_type": "code",
   "execution_count": null,
   "metadata": {
    "slideshow": {
     "slide_type": "-"
    }
   },
   "outputs": [],
   "source": [
    "N=64\n",
    "k0 = 7\n",
    "n = np.arange(N)\n",
    "# s is real not complex:\n",
    "s = np.cos(2* np.pi * k0 * n/N)# create a REAL signal at k0 = 7\n",
    "\n",
    "X = np.array([]) #create empty array\n",
    "#iterate over all sample indices:\n",
    "for k in range(N):\n",
    "    xp = np.exp(-1j * 2 * np.pi * k * n / N) #create complex exponential (i.e., frequency) at every k\n",
    "    X = np.append(X, sum(s*xp))\n"
   ]
  },
  {
   "cell_type": "code",
   "execution_count": null,
   "metadata": {
    "slideshow": {
     "slide_type": "subslide"
    }
   },
   "outputs": [],
   "source": [
    "plt.plot(np.abs(X))"
   ]
  },
  {
   "cell_type": "markdown",
   "metadata": {
    "slideshow": {
     "slide_type": "fragment"
    }
   },
   "source": [
    "However, these values are misleading - they are plotted with regards to the values of x which are index values from 0 to 64. Because it *should represent* a symmetrical output around zero, we need to change how we calculate N. So instead of 0 : 64, we divide N by two and show from -N/2 to positive N/2. (Since we want to calculate and display the correct values of 7 and -7).\n",
    "\n",
    "In fact, when working with real signals what's better is to create a different set of incides for the frequency and samples, that actually run from -N/2 to N/2 just to keep everything clear and tidy."
   ]
  },
  {
   "cell_type": "code",
   "execution_count": null,
   "metadata": {
    "slideshow": {
     "slide_type": "slide"
    }
   },
   "outputs": [],
   "source": [
    "N=64\n",
    "k0 = 7\n",
    "s = np.cos(2* np.pi * k0/N * np.arange(N))#notice we subbed cos for exp and got rid of j\n",
    "\n",
    "#REDO with altered indices:\n",
    "nv = np.arange(N) # indices for samples\n",
    "kv = np.arange(-N/2, N/2) # indices for frequency\n",
    "\n",
    "X = np.array([]) #create empty array\n",
    "#iterate over all sample indices and create complex exponential (i.e., frequency) at every k\n",
    "for k in kv:\n",
    "    xp = np.exp(-1j * 2 * np.pi * k * nv / N) \n",
    "    X = np.append(X, sum(s*xp))\n",
    "    \n",
    "plt.plot(kv, abs(X))"
   ]
  },
  {
   "cell_type": "markdown",
   "metadata": {
    "slideshow": {
     "slide_type": "slide"
    }
   },
   "source": [
    "## Properties of DFT"
   ]
  },
  {
   "cell_type": "markdown",
   "metadata": {
    "slideshow": {
     "slide_type": "fragment"
    }
   },
   "source": [
    "Since the resolution of k depends on the number of samples N, we will obtain a more dense sampling along the frequency axis if we have longer samples (up to a point). Therefore, a larger value of N is expected to produce a finer representation of the signal in the frequency domain, (i.e. a better *frequency resolution*.)"
   ]
  },
  {
   "cell_type": "markdown",
   "metadata": {},
   "source": [
    "However, this increasing frequency resolution is valid, **only as long as the signal remains stationary**, (i.e. as long as its properties do not change over time). When the signal changes over time, this DFT cannot be performed over the entire signal, we instead need to \"cut up\" the signal into fragments of time that are as unchanging as possible and compute the DFT over each one.\n",
    "\n",
    "(More on this next time.)"
   ]
  },
  {
   "cell_type": "markdown",
   "metadata": {
    "slideshow": {
     "slide_type": "slide"
    }
   },
   "source": [
    "## IDFT\n",
    "One of the nice things about the DFT is that it is recomposable (or invertible). That is, we can get back the original signal from its spectrum. So it's a kind of synthesis, because we are recreating a whole out of many parts.\n",
    "\n",
    "In order to run the inverse DFT, we take $x[k]$, which is now our input vector of length N, (i.e., the resulting spectrum of a DFT), and we output a set of samples--also of length N--which represent our original signal. \n",
    "\n",
    "The formula for the IDFT is very similar. \n",
    "\n",
    "As a review:\n",
    "\n",
    "$$x[n] = \\frac{1}{N} \\sum_{k=0}^{N-1} X[k] \\cdot e^{j 2\\pi k n/N} , n = 0,...,N-1$$\n",
    "\n",
    "...where the weight of each complex exponential is equal to the kth DFT coefficient. Said another way, \n",
    "X[k] can be understood as a measure of the intensity with which the respective frequency participates in\n",
    "the signal x(n).\n",
    "\n",
    "By summing these sinusoids, we are effectively performing the same synthesis activity we did earlier in the semester."
   ]
  },
  {
   "cell_type": "markdown",
   "metadata": {
    "slideshow": {
     "slide_type": "slide"
    }
   },
   "source": [
    "So now we iterate over every n (instead of k). Our output, \"X\" is the series of sums of all frequencies (k) over all possible samples:"
   ]
  },
  {
   "cell_type": "code",
   "execution_count": null,
   "metadata": {},
   "outputs": [],
   "source": [
    "# 'X' was the variable of the stored output of the DFT\n",
    "\n",
    "N = 64\n",
    "nv = np.arange(N) # indices for samples\n",
    "kv = np.arange(-N/2, N/2) # indices for frequency\n",
    "\n",
    "y = np.array([])\n",
    "#recall capital 'X' above is our output from the DFT (or spectrum values)\n",
    "#now iterate over n\n",
    "for n in nv: \n",
    "    xp = np.exp(1j * 2 * np.pi * kv * n / N) #create complex exp at every n\n",
    "    y = np.append(y, 1.0/N * sum(X*xp)) #note the factor of 1/N to normalize"
   ]
  },
  {
   "cell_type": "code",
   "execution_count": null,
   "metadata": {
    "slideshow": {
     "slide_type": "subslide"
    }
   },
   "outputs": [],
   "source": [
    "plt.plot(nv, y)"
   ]
  },
  {
   "cell_type": "markdown",
   "metadata": {
    "slideshow": {
     "slide_type": "slide"
    }
   },
   "source": [
    "### Converting between time and spectral representations\n",
    "\n",
    "The advantage of representing a sound in terms of its Fourier series is that it allows us to manipulate the frequency content directly. If we want to accentuate the high-frequency effects in a sound (make a sound brighter -- more on this later), we could just make all the high-frequency Fourier coefficients bigger in amplitude. If we wanted to turn a sawtooth wave into a square wave, we could just set to zero the Fourier coefficients of the even partials."
   ]
  },
  {
   "cell_type": "markdown",
   "metadata": {},
   "source": [
    "### Example: controlling frequency content"
   ]
  },
  {
   "cell_type": "code",
   "execution_count": null,
   "metadata": {},
   "outputs": [],
   "source": [
    "# N = 64\n",
    "# k0 = 7 \n",
    "# n = np.arange(0,N)\n",
    "\n",
    "N=1000\n",
    "f0=400\n",
    "n = np.arange(N)\n",
    "sig = np.cos(2 * np.pi * f0 * n/N)\n",
    "hum = np.cos(2 * np.pi * 80 * n/N)\n",
    "com = sig + hum"
   ]
  },
  {
   "cell_type": "code",
   "execution_count": null,
   "metadata": {},
   "outputs": [],
   "source": [
    "from IPython.display import Audio\n",
    "Audio(sig, rate=1000)"
   ]
  },
  {
   "cell_type": "code",
   "execution_count": null,
   "metadata": {},
   "outputs": [],
   "source": [
    "Audio(com, rate=1000)"
   ]
  },
  {
   "cell_type": "code",
   "execution_count": null,
   "metadata": {},
   "outputs": [],
   "source": [
    "plt.subplot(3,1,1)\n",
    "plt.subplots_adjust(hspace=.8)\n",
    "plt.plot(sig[:1000])\n",
    "plt.title('original signal')\n",
    "plt.subplot(3,1,2)\n",
    "plt.plot(hum[:1000])\n",
    "plt.title('noisy hum')\n",
    "plt.subplot(3,1,3)\n",
    "plt.plot(com[:1000])\n",
    "plt.title('resulting signal with noise')"
   ]
  },
  {
   "cell_type": "code",
   "execution_count": null,
   "metadata": {},
   "outputs": [],
   "source": [
    "#my_DFT is simply a DFT function I wrote myself. You will all write your own\n",
    "N = com.size//2\n",
    "N\n",
    "test = my_DFT(com)\n",
    "plt.plot(np.abs(test)[:N])"
   ]
  },
  {
   "cell_type": "code",
   "execution_count": null,
   "metadata": {},
   "outputs": [],
   "source": [
    "np.abs(test[test > 1])"
   ]
  },
  {
   "cell_type": "code",
   "execution_count": null,
   "metadata": {},
   "outputs": [],
   "source": [
    "#Create a filter by changing particular values to zero\n",
    "#Remember that in a real signal all values in second half are mirror of first half.\n",
    "copy = test.copy()\n",
    "copy[80] = copy[80]*0\n",
    "copy[-80] = copy[-80]*0"
   ]
  },
  {
   "cell_type": "code",
   "execution_count": null,
   "metadata": {},
   "outputs": [],
   "source": [
    "copy[abs(copy) > 1]"
   ]
  },
  {
   "cell_type": "code",
   "execution_count": null,
   "metadata": {},
   "outputs": [],
   "source": [
    "plt.plot(copy[:N])\n",
    "plt.ylim(0,500)"
   ]
  },
  {
   "cell_type": "markdown",
   "metadata": {},
   "source": [
    "we can now use the iDFT to recreate the signal without the noise"
   ]
  },
  {
   "cell_type": "code",
   "execution_count": null,
   "metadata": {},
   "outputs": [],
   "source": [
    "N = len(copy)\n",
    "\n",
    "kv = np.arange(0, N)\n",
    "nv = np.arange(0, N)\n",
    "\n",
    "y = np.array([])\n",
    "#recall that the variable \"copy\" is our output from the DFT (or spectrum values)\n",
    "for n in nv: \n",
    "    s = np.exp(1j * 2 * np.pi * kv * n / N) \n",
    "    y = np.append(y, 1.0/N * sum(copy*s)) #1/N to normalize"
   ]
  },
  {
   "cell_type": "code",
   "execution_count": null,
   "metadata": {},
   "outputs": [],
   "source": [
    "plt.plot(y.real)"
   ]
  },
  {
   "cell_type": "code",
   "execution_count": null,
   "metadata": {},
   "outputs": [],
   "source": [
    "Audio(y.real, rate=1000)"
   ]
  },
  {
   "cell_type": "markdown",
   "metadata": {},
   "source": [
    "Note that the DFT will look very different for signals that are not perfect sinusoids:"
   ]
  },
  {
   "cell_type": "code",
   "execution_count": null,
   "metadata": {},
   "outputs": [],
   "source": [
    "N = 128\n",
    "n = np.arange(N)\n",
    "k = 10\n",
    "x = np.cos(2 * np.pi * (k * n / N) + 2 * (np.random.rand(N) - 0.5)) \n",
    "X = my_DFT(x)\n",
    "\n",
    "plt.figure(figsize=(10, 3))\n",
    "\n",
    "plt.subplot(1, 2, 1)\n",
    "plt.title('x')\n",
    "plt.plot(x)\n",
    "plt.xlabel('Time (index $n$)')\n",
    "\n",
    "plt.subplot(1, 2, 2)\n",
    "plt.title('|X|')\n",
    "plt.plot(np.arange(32),np.abs(X[:32])) # since the first half of the spectrum is all we need, it's common to ignore the second half\n",
    "plt.xlabel('Frequency (index $k$)')\n",
    "plt.tight_layout()"
   ]
  },
  {
   "cell_type": "code",
   "execution_count": null,
   "metadata": {},
   "outputs": [],
   "source": []
  }
 ],
 "metadata": {
  "celltoolbar": "Slideshow",
  "kernelspec": {
   "display_name": "Python 3 (ipykernel)",
   "language": "python",
   "name": "python3"
  },
  "language_info": {
   "codemirror_mode": {
    "name": "ipython",
    "version": 3
   },
   "file_extension": ".py",
   "mimetype": "text/x-python",
   "name": "python",
   "nbconvert_exporter": "python",
   "pygments_lexer": "ipython3",
   "version": "3.9.9"
  }
 },
 "nbformat": 4,
 "nbformat_minor": 2
}
