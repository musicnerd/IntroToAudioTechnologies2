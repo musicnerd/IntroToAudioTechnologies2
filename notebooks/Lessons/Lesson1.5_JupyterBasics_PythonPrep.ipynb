{
 "cells": [
  {
   "cell_type": "markdown",
   "metadata": {
    "slideshow": {
     "slide_type": "slide"
    }
   },
   "source": [
    "# Jupyter\n",
    "\n",
    "We will be using jupyter notebooks exclusively in this class, so it will be worthwhile to get to know some shortcuts & overall functionality."
   ]
  },
  {
   "cell_type": "markdown",
   "metadata": {
    "slideshow": {
     "slide_type": "slide"
    }
   },
   "source": [
    "## Two types of cells\n",
    "\n",
    "Each little block of text or code is called a \"cell.\" There are two types: either code, or text. If you are writing text, it is being processed by default as markdown. Markdown is a simple & common markup language. If you have tried to write your own webpage or used Github, you've probably used Markdown. "
   ]
  },
  {
   "cell_type": "markdown",
   "metadata": {
    "slideshow": {
     "slide_type": "slide"
    }
   },
   "source": [
    "## Markdown\n",
    "For the purposes of this class, writing \"markdown\" will basically just involve writing simple text. However, here are a few useful text styles:\n",
    "\n",
    "Italics: wrap the text to italicize with asterisks, like *this* \n",
    "\n",
    "Bold: wrap the text to bold with double asterisks, like **this**\n",
    "\n",
    "Hyperlinks: [text to display](https://mywebsitehere.com)\n",
    "\n",
    "Headings: place hashtags in front of text. The fewer the number of hashtags, the larger the font. E.g.,\n",
    "# Big title\n",
    "## subtitle\n",
    "### sub-subtitle\n",
    "\n",
    "Bullet lists: place single asterisk before each item:\n",
    "* item1\n",
    "* item2\n",
    "* item3\n",
    "\n",
    "##  Math\n",
    "\n",
    "Math in markdown looks similar to math in LaTeX. Dollar signs around math code will display math:\n",
    "\n",
    "\n",
    "$$  \\int_0^\\infty \\frac{x^3}{e^x-1}\\,dx = \\frac{\\pi^4}{15} $$\n",
    "\n",
    "[Here](https://jojozhuang.github.io/tutorial/mathjax-cheat-sheet-for-mathematical-notation/) is a handy \"cheat sheet\" for how to write math in a Jupyter notebook."
   ]
  },
  {
   "cell_type": "markdown",
   "metadata": {},
   "source": [
    "## Navigating cells\n",
    "\n",
    "Pressing `esc` will switch into \"command mode.\" From here, you can skip the mouse and use simple keyboard shortcuts to do everything. For example:\n",
    "\n",
    "* A to insert a new cell above the current cell, B to insert a new cell below.\n",
    "* M to change the current cell to Markdown, Y to change it back to code. \n",
    "* `Ctrl + Shift + -` will split the current cell into two from where your cursor is.\n",
    "* `D + D` (press the key twice) to delete the current cell.\n",
    "* Select multiple cells by pressing `Shift + j` or `Shift + Down` or `Shift + k` or `Shift + up`\n",
    "* Once highligted, you can also merge with `Shift + m`\n",
    "\n",
    "For more tips and tricks, you can bookmark [this page](https://www.dataquest.io/blog/jupyter-notebook-tips-tricks-shortcuts/)"
   ]
  },
  {
   "cell_type": "markdown",
   "metadata": {},
   "source": [
    "## Code\n",
    "To run your code, hit `Shift + enter`.\n",
    "\n",
    "by prepending a library, method or variable with `?`, you can access the Docstring for quick reference.\n",
    "\n",
    "Avoid long strings of commented text inside a code cell. If you find yourself doing this a lot, break the cell and write in markdown.\n"
   ]
  },
  {
   "cell_type": "markdown",
   "metadata": {},
   "source": [
    "# Most Common Libraries\n",
    "\n",
    "We will be relying primarily on a handful of python libraries for this class. I encourage you to look up the documentation for each of them and see what they are for and what their strengths are.\n",
    "    \n",
    "* Numpy\n",
    "* Scipy\n",
    "* Matplotlib\n",
    "* Pandas"
   ]
  },
  {
   "cell_type": "markdown",
   "metadata": {},
   "source": [
    "## Catch-up, prep, and refreshers\n",
    "\n",
    "If you are relatively new to coding, you will need to familiarize yourself with a few basics, as this is not an intro to python class. However, it is a learning objective for this class that you gain familiarity with coding in python. \n",
    "\n",
    "#### Please familiarize yourself (or review) the following: \n",
    "\n",
    "* Core data structures (e.g., lists, tuples, dictionaries) [here](https://physics.nyu.edu/pine/pymanual/html/chap3/chap3_arrays.html)\n",
    "(This gets into numpy arrays as well, which we will be using heavily.)\n",
    "\n",
    "* basic data types and operations (e.g., integers, floats, string) [here](https://docs.python.org/3/tutorial/introduction.html)\n",
    "\n",
    "* overview all operators [here](https://www.w3schools.com/python/python_operators.asp)\n",
    "\n",
    "* if/for/break/continue/pass [sections 4.1-4.5](https://docs.python.org/3/tutorial/controlflow.html)\n",
    "\n",
    "You are not expected to know anything \"off the bat,\" however, it will be your responsibility to fill in any gaps of knowledge so that we can move forward at an appropropriate pace. Quiz material will occasionally have coding questions typically about some kind of function or operation emphasized in the week's lectures."
   ]
  },
  {
   "cell_type": "markdown",
   "metadata": {},
   "source": [
    "# A bit of command line\n",
    "\n",
    "Here are a few handy tricks and tips for working at the command line if this is new to you. My goal is to convert at least one student to working at the command line!"
   ]
  },
  {
   "cell_type": "markdown",
   "metadata": {},
   "source": [
    "### Basic commands\n",
    "The syntax for command line commands is: `$ command -options input`. Many commands (like functions you will build yourselves) have default *arguments* meaning that you don't have to specify any options or any input for the command to do something.\n",
    "\n",
    "For instance,\n",
    "\n",
    "`$ ls` is short for the word \"list\" and is a command that will print out all non-hidden files in the current directory. So the default option is \"none\" and the default input is the current directory.  If you type at the command line:\n",
    "`$ ls -a` adds the \"all\" option which will show all files including hidden ones (which will start with a \".\")\n",
    "\n"
   ]
  },
  {
   "cell_type": "markdown",
   "metadata": {},
   "source": [
    "Here are some of the most useful commands you may want to know about files, paths, and directory manipulations:\n",
    "* `ls` lists all files  \n",
    "* `cd` stands for \"change directory\" you can follow this with an absolute path (e.g., /Users/carthur/Documents/MyStuff) or a path relative to the one you are in...\n",
    "    * `cd ..` goes backwards to the parent directory\n",
    "    * `cd ./SomeOtherFolder` goes from your current location (\".\") to a sub-folder called \"SomeOtherFolder\"\n",
    "    * `cd /Users/carthur/Documents/MyStuff` will take me to that specific folder no matter my current location\n",
    "    * `~` (\"tilda\") is a shortcut referencing your home directory. You can change this at any time to be whatever you want, but usually by default is your `/Users/computerName` on a Mac or your main documents or desktop folder on Windows.  So `cd ~` takes me to $/Users/carthur no matter where I am currently.\n",
    "    \n",
    "* `mkdir NameOfDirectory` will create a new directory (under your current directory)\n",
    "* tab complete: This works in Jupyter as well: start typing the name of a function, file, or object and then press `tab`. If the system knows about it, it will finish it for you. If there are multiple items that start the same but end differently, it will complete up to the point of differentiation. E.g., if I start typing \"syllabus\" in my directory but I have two syllabi called syllabus2019 and syllabus2020, it will only complete through the end of the word \"syllabus\" and wait for you to differentiate which one you want. If you then hit `tab` again, it will show you all files beginning with \"syllabus\".\n",
    "*up/down arrows: You can access the command line history by hitting up arrow to avoid retyping everything you just typed! \n",
    "* `more NameOfFile` this will print out--in groups of lines at a time--the contents of the file you pass as input\n",
    "* `Ctrl-c` will force exit a process, file, or application. (For example, if you use the `more` command on an unfortunately large file and don't want to scroll all the way through, you can type `Ctrl-c`."
   ]
  }
 ],
 "metadata": {
  "kernelspec": {
   "display_name": "Python 3 (ipykernel)",
   "language": "python",
   "name": "python3"
  },
  "language_info": {
   "codemirror_mode": {
    "name": "ipython",
    "version": 3
   },
   "file_extension": ".py",
   "mimetype": "text/x-python",
   "name": "python",
   "nbconvert_exporter": "python",
   "pygments_lexer": "ipython3",
   "version": "3.9.9"
  }
 },
 "nbformat": 4,
 "nbformat_minor": 2
}
