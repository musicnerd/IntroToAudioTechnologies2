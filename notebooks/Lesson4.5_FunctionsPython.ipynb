{
 "cells": [
  {
   "cell_type": "markdown",
   "metadata": {},
   "source": [
    "## Writing functions in Python"
   ]
  },
  {
   "cell_type": "markdown",
   "metadata": {},
   "source": [
    "Write your own function any time you think you might reuse a block of code, or for performing some task/function repeatedly throughout some class, activity, program, etc."
   ]
  },
  {
   "cell_type": "markdown",
   "metadata": {},
   "source": [
    "We can have a function that is 'hard coded' or does not require any *arguments*. This type of function will simply execute some set of actions in the same way every time."
   ]
  },
  {
   "cell_type": "code",
   "execution_count": 1,
   "metadata": {},
   "outputs": [],
   "source": [
    "# For example:\n",
    "\n",
    "def happyBirthday():\n",
    "    print('Happy birthday to you,')\n",
    "    print('happy birthday to you,')\n",
    "    print('happy birthday dear YOU!,')\n",
    "    print('happy birthday to you.')"
   ]
  },
  {
   "cell_type": "code",
   "execution_count": 2,
   "metadata": {},
   "outputs": [
    {
     "name": "stdout",
     "output_type": "stream",
     "text": [
      "Happy birthday to you,\n",
      "happy birthday to you,\n",
      "happy birthday dear YOU!,\n",
      "happy birthday to you.\n"
     ]
    }
   ],
   "source": [
    "happyBirthday()"
   ]
  },
  {
   "cell_type": "markdown",
   "metadata": {},
   "source": [
    "However, most functions you will want to pass arguments to. Like this:"
   ]
  },
  {
   "cell_type": "code",
   "execution_count": 12,
   "metadata": {},
   "outputs": [],
   "source": [
    "def happyBirthday2(name='You'):\n",
    "    print('Happy birthday to you,')\n",
    "    print('happy birthday to you,')\n",
    "    print('happy birthday dear %s!,' % name)\n",
    "    print('happy birthday to you.')"
   ]
  },
  {
   "cell_type": "code",
   "execution_count": 10,
   "metadata": {},
   "outputs": [
    {
     "name": "stdout",
     "output_type": "stream",
     "text": [
      "Happy birthday to you,\n",
      "happy birthday to you,\n",
      "happy birthday dear Sawyer!,\n",
      "happy birthday to you.\n"
     ]
    }
   ],
   "source": [
    "happyBirthday2(name='Sawyer') # Insert name of someone whose birthday is today :)"
   ]
  },
  {
   "cell_type": "markdown",
   "metadata": {},
   "source": [
    "User-defined functions in Python can take different types of arguments. You will see these terms in reference to function arguments (that are not mutually exclusive):\n",
    "\n",
    "* Default arguments  \n",
    "* Required arguments  \n",
    "* Keyword arguments\n",
    "* Positional arguments\n",
    "* Variable number of arguments "
   ]
  },
  {
   "cell_type": "markdown",
   "metadata": {},
   "source": [
    "### Required arguments\n",
    "If I tried to run my second birthday function like this:"
   ]
  },
  {
   "cell_type": "code",
   "execution_count": 13,
   "metadata": {},
   "outputs": [
    {
     "name": "stdout",
     "output_type": "stream",
     "text": [
      "Happy birthday to you,\n",
      "happy birthday to you,\n",
      "happy birthday dear You!,\n",
      "happy birthday to you.\n"
     ]
    }
   ],
   "source": [
    "happyBirthday2() #with no argument passed, it will return an error"
   ]
  },
  {
   "cell_type": "markdown",
   "metadata": {},
   "source": [
    "This is because a variable called \"name\" needs to be passed to the function in order for it to work. This means \"name\" is a required argument.\n",
    "\n",
    "Most of the time we want to set up the total number of arguments in the definition of the function *and* we will want to set up default arguments whenever possible (so as to have the function work and spit out *something*).\n",
    "\n",
    "A default argument is where you pass *in the definition of the function* a default variable which a user may or may not overwrite. In our example above, we could have said:\n",
    "\n",
    "`def happyBirthday2(name=YOU):`\n",
    "\n",
    "...more on default arguments in a bit..."
   ]
  },
  {
   "cell_type": "markdown",
   "metadata": {},
   "source": [
    "Let's construct a simple function as another example..."
   ]
  },
  {
   "cell_type": "code",
   "execution_count": 9,
   "metadata": {},
   "outputs": [],
   "source": [
    "#Let's write our own division function\n",
    "def func_divide(arg1, arg2):\n",
    "    y = arg1 / arg2\n",
    "    return(y)"
   ]
  },
  {
   "cell_type": "code",
   "execution_count": 10,
   "metadata": {},
   "outputs": [
    {
     "data": {
      "text/plain": [
       "2.8125"
      ]
     },
     "execution_count": 10,
     "metadata": {},
     "output_type": "execute_result"
    }
   ],
   "source": [
    "func_divide(9,3.2)"
   ]
  },
  {
   "cell_type": "markdown",
   "metadata": {},
   "source": [
    "Here arg1 and arg2 are **required** arguments with no default values.\n",
    "\n",
    "Python is smart and will accept ANY argument, but it will fail, of course, if you try to pass in some argument that is the wrong type:"
   ]
  },
  {
   "cell_type": "code",
   "execution_count": 12,
   "metadata": {},
   "outputs": [
    {
     "ename": "TypeError",
     "evalue": "unsupported operand type(s) for /: 'str' and 'str'",
     "output_type": "error",
     "traceback": [
      "\u001b[0;31m---------------------------------------------------------------------------\u001b[0m",
      "\u001b[0;31mTypeError\u001b[0m                                 Traceback (most recent call last)",
      "\u001b[0;32m<ipython-input-12-5a27f785a925>\u001b[0m in \u001b[0;36m<module>\u001b[0;34m\u001b[0m\n\u001b[0;32m----> 1\u001b[0;31m \u001b[0mfunc_divide\u001b[0m\u001b[0;34m(\u001b[0m\u001b[0;34m'two'\u001b[0m\u001b[0;34m,\u001b[0m \u001b[0;34m'three'\u001b[0m\u001b[0;34m)\u001b[0m\u001b[0;34m\u001b[0m\u001b[0;34m\u001b[0m\u001b[0m\n\u001b[0m",
      "\u001b[0;32m<ipython-input-9-43c49605018e>\u001b[0m in \u001b[0;36mfunc_divide\u001b[0;34m(arg1, arg2)\u001b[0m\n\u001b[1;32m      1\u001b[0m \u001b[0;31m#Let's write our own division function\u001b[0m\u001b[0;34m\u001b[0m\u001b[0;34m\u001b[0m\u001b[0;34m\u001b[0m\u001b[0m\n\u001b[1;32m      2\u001b[0m \u001b[0;32mdef\u001b[0m \u001b[0mfunc_divide\u001b[0m\u001b[0;34m(\u001b[0m\u001b[0marg1\u001b[0m\u001b[0;34m,\u001b[0m \u001b[0marg2\u001b[0m\u001b[0;34m)\u001b[0m\u001b[0;34m:\u001b[0m\u001b[0;34m\u001b[0m\u001b[0;34m\u001b[0m\u001b[0m\n\u001b[0;32m----> 3\u001b[0;31m     \u001b[0my\u001b[0m \u001b[0;34m=\u001b[0m \u001b[0marg1\u001b[0m \u001b[0;34m/\u001b[0m \u001b[0marg2\u001b[0m\u001b[0;34m\u001b[0m\u001b[0;34m\u001b[0m\u001b[0m\n\u001b[0m\u001b[1;32m      4\u001b[0m     \u001b[0;32mreturn\u001b[0m\u001b[0;34m(\u001b[0m\u001b[0my\u001b[0m\u001b[0;34m)\u001b[0m\u001b[0;34m\u001b[0m\u001b[0;34m\u001b[0m\u001b[0m\n",
      "\u001b[0;31mTypeError\u001b[0m: unsupported operand type(s) for /: 'str' and 'str'"
     ]
    }
   ],
   "source": [
    "func_divide('two', 'three')"
   ]
  },
  {
   "cell_type": "markdown",
   "metadata": {},
   "source": [
    "You can generate better (read: more useful) error messages by coding them into your functions. This is especially important if you are sharing code or writing code for a program that others will use.\n",
    "\n",
    "There are \"correct\" ways of doing this, but for now you can just use if/else and print functions."
   ]
  },
  {
   "cell_type": "code",
   "execution_count": 13,
   "metadata": {},
   "outputs": [],
   "source": [
    "#Let's update our function...\n",
    "def func_divide(numerator, denominator):\n",
    "    if (type(numerator) == int or type(numerator) == float) and (type(denominator) == int or type(denominator) == float):\n",
    "        y = numerator / denominator\n",
    "        return(y)\n",
    "    else:\n",
    "        print('Arguments must be of type int or float')"
   ]
  },
  {
   "cell_type": "code",
   "execution_count": 14,
   "metadata": {},
   "outputs": [
    {
     "name": "stdout",
     "output_type": "stream",
     "text": [
      "Arguments must be of type int or float\n"
     ]
    }
   ],
   "source": [
    "func_divide('Jerry','Lewis')"
   ]
  },
  {
   "cell_type": "markdown",
   "metadata": {},
   "source": [
    "### Keyword arguments\n",
    "\n",
    "Keyword arguments allow the user to use the name of the \"placeholder argument\" in order to pass assignment to the variables regardless of the order of the arguments.\n",
    "\n",
    "For example, `func_divide` is really supposed to divide the first number by the second number. Or we could think of those as a numerator and denominator"
   ]
  },
  {
   "cell_type": "code",
   "execution_count": null,
   "metadata": {},
   "outputs": [],
   "source": [
    "func_divide(9,3)"
   ]
  },
  {
   "cell_type": "markdown",
   "metadata": {},
   "source": [
    "If I pass the same numbers in reverse order, I will not get the expected output."
   ]
  },
  {
   "cell_type": "code",
   "execution_count": null,
   "metadata": {},
   "outputs": [],
   "source": [
    "func_divide(3,9)"
   ]
  },
  {
   "cell_type": "markdown",
   "metadata": {},
   "source": [
    "However, this requires me to *remember* the order of the arguments. Arg1 = numerator, Arg2 = denominator.  However, one can provide keywords to override this problem:"
   ]
  },
  {
   "cell_type": "code",
   "execution_count": 15,
   "metadata": {},
   "outputs": [
    {
     "data": {
      "text/plain": [
       "3.0"
      ]
     },
     "execution_count": 15,
     "metadata": {},
     "output_type": "execute_result"
    }
   ],
   "source": [
    "func_divide(denominator=3, numerator=9)"
   ]
  },
  {
   "cell_type": "markdown",
   "metadata": {},
   "source": [
    "For this reason, it's very useful if you give your \"placeholder\" arguments meaningful names. In CS these are referred to as *identifiers* (which is just robot speak for \"name\")"
   ]
  },
  {
   "cell_type": "markdown",
   "metadata": {},
   "source": [
    "### Default arguments\n",
    "In many cases, you may run a function where more often than not you really only want to manipulate *some* of the argument variables, but nevertheless would like to have the option of manipulating all of them.\n",
    "\n",
    "In this case, you likely will want to set up default arguments. Default values indicate that the function argument will take that value if no argument value is passed to overwrite it during the function call."
   ]
  },
  {
   "cell_type": "markdown",
   "metadata": {},
   "source": [
    "For example, perhaps we want to generate a function that plots a sinusoid. (You've all done this already). \n",
    "\n",
    "So we could define our function like this:"
   ]
  },
  {
   "cell_type": "code",
   "execution_count": 16,
   "metadata": {},
   "outputs": [],
   "source": [
    "def plotSine(x, y):\n",
    "    import matplotlib.pyplot as plt\n",
    "    import numpy as np\n",
    "    f = plt.plot(x, np.sin(y))\n",
    "    return(f)"
   ]
  },
  {
   "cell_type": "code",
   "execution_count": 17,
   "metadata": {},
   "outputs": [
    {
     "data": {
      "text/plain": [
       "[<matplotlib.lines.Line2D at 0x1179be510>]"
      ]
     },
     "execution_count": 17,
     "metadata": {},
     "output_type": "execute_result"
    },
    {
     "data": {
      "image/png": "[encoded data removed]",
      "text/plain": [
       "<Figure size 432x288 with 1 Axes>"
      ]
     },
     "metadata": {
      "needs_background": "light"
     },
     "output_type": "display_data"
    }
   ],
   "source": [
    "import numpy as np\n",
    "xvals = np.arange(-10,10)\n",
    "yvals = np.linspace(-1,1,20)\n",
    "\n",
    "plotSine(xvals, yvals)"
   ]
  },
  {
   "cell_type": "markdown",
   "metadata": {},
   "source": [
    "Notice that each of the two arguments now currently *mandatory*. That is, the user *must* pass two arguments. But like the actual plt.plot() funcion, we could create default x-axis values and only make the y values mandatory.\n",
    "\n",
    "In this case, we can set up default values for the \"x\" argument, so that it's easier for the user to use the function and just pass one variable:"
   ]
  },
  {
   "cell_type": "code",
   "execution_count": 18,
   "metadata": {},
   "outputs": [],
   "source": [
    "def plotSine(y, x=None):\n",
    "    import matplotlib.pyplot as plt\n",
    "    import numpy as np\n",
    "    if x is None:\n",
    "        indices = np.arange(0, len(y))\n",
    "    else:\n",
    "        indices = x\n",
    "    f = plt.plot(indices, np.sin(y))\n",
    "    return(f)"
   ]
  },
  {
   "cell_type": "code",
   "execution_count": 19,
   "metadata": {},
   "outputs": [
    {
     "data": {
      "text/plain": [
       "[<matplotlib.lines.Line2D at 0x11a1ee390>]"
      ]
     },
     "execution_count": 19,
     "metadata": {},
     "output_type": "execute_result"
    },
    {
     "data": {
      "image/png": "[encoded data removed]",
      "text/plain": [
       "<Figure size 432x288 with 1 Axes>"
      ]
     },
     "metadata": {
      "needs_background": "light"
     },
     "output_type": "display_data"
    }
   ],
   "source": [
    "plotSine(yvals)"
   ]
  },
  {
   "cell_type": "markdown",
   "metadata": {},
   "source": [
    "Notice that in python coding style it is required to put mandatory arguments before optional or default arguments, so in this case we put \"y\" before \"x\".\n",
    "\n",
    "Of course we can always overwrite the default x values by simply passing the values either in the correct positions (y, x) or else by explicitly telling the function which arguments we are passing:"
   ]
  },
  {
   "cell_type": "code",
   "execution_count": null,
   "metadata": {},
   "outputs": [],
   "source": [
    "plotSine(x=xvals, y=yvals)"
   ]
  },
  {
   "cell_type": "markdown",
   "metadata": {},
   "source": [
    "### Variable number of arguments"
   ]
  },
  {
   "cell_type": "markdown",
   "metadata": {},
   "source": [
    "occasionally you won't know how many total arguments you need, or, you'll know that sometimes your function takes 3 arguments and sometimes 4. In this case you need variable # of arguments:"
   ]
  },
  {
   "cell_type": "code",
   "execution_count": null,
   "metadata": {},
   "outputs": [],
   "source": [
    "def varLenArgFunc(*varvallist):\n",
    "    #asterisk converts all passed variables as a list. Can be combined with regular argument variables.\n",
    "    print (\"The Output is: \")\n",
    "    for varval in varvallist:\n",
    "       print (varval)\n",
    "    return;   "
   ]
  },
  {
   "cell_type": "code",
   "execution_count": null,
   "metadata": {},
   "outputs": [],
   "source": [
    "varLenArgFunc(55)"
   ]
  },
  {
   "cell_type": "code",
   "execution_count": null,
   "metadata": {},
   "outputs": [],
   "source": [
    "varLenArgFunc(50,60,70,80)"
   ]
  },
  {
   "cell_type": "markdown",
   "metadata": {},
   "source": [
    "### Variable names\n",
    "Remember, arguments are really just special variables, so you should treat them the same. You cannot begin a variable in python with a number, it must begin with a character."
   ]
  }
 ],
 "metadata": {
  "kernelspec": {
   "display_name": "Python 3 (ipykernel)",
   "language": "python",
   "name": "python3"
  },
  "language_info": {
   "codemirror_mode": {
    "name": "ipython",
    "version": 3
   },
   "file_extension": ".py",
   "mimetype": "text/x-python",
   "name": "python",
   "nbconvert_exporter": "python",
   "pygments_lexer": "ipython3",
   "version": "3.9.9"
  }
 },
 "nbformat": 4,
 "nbformat_minor": 2
}
