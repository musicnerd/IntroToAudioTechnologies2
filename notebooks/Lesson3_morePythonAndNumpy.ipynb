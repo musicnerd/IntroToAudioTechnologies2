{
 "cells": [
  {
   "cell_type": "markdown",
   "metadata": {
    "slideshow": {
     "slide_type": "slide"
    }
   },
   "source": [
    "# Python logicals, arrays, indexing, and functions"
   ]
  },
  {
   "cell_type": "markdown",
   "metadata": {
    "slideshow": {
     "slide_type": "fragment"
    }
   },
   "source": [
    "## Boolean values and expressions\n",
    "A **boolean value** is either true or false. It is named after the British mathematician, George Boole, who first formulated Boolean algebra. This is the basis of all modern computer logic.\n",
    "\n",
    "In Python, the two Boolean values are `True` and `False` (the capitalization must be exactly as shown), and the Python type is bool."
   ]
  },
  {
   "cell_type": "code",
   "execution_count": 1,
   "metadata": {
    "slideshow": {
     "slide_type": "slide"
    }
   },
   "outputs": [
    {
     "data": {
      "text/plain": [
       "bool"
      ]
     },
     "execution_count": 1,
     "metadata": {},
     "output_type": "execute_result"
    }
   ],
   "source": [
    "type(True)"
   ]
  },
  {
   "cell_type": "code",
   "execution_count": 2,
   "metadata": {
    "slideshow": {
     "slide_type": "fragment"
    }
   },
   "outputs": [
    {
     "ename": "NameError",
     "evalue": "name 'TRUE' is not defined",
     "output_type": "error",
     "traceback": [
      "\u001b[0;31m---------------------------------------------------------------------------\u001b[0m",
      "\u001b[0;31mNameError\u001b[0m                                 Traceback (most recent call last)",
      "\u001b[0;32m/var/folders/n8/nzn6b2pj12j_t4cmj6w278q00000gp/T/ipykernel_87658/2034992533.py\u001b[0m in \u001b[0;36m<module>\u001b[0;34m\u001b[0m\n\u001b[0;32m----> 1\u001b[0;31m \u001b[0mtype\u001b[0m\u001b[0;34m(\u001b[0m\u001b[0mTRUE\u001b[0m\u001b[0;34m)\u001b[0m\u001b[0;34m\u001b[0m\u001b[0;34m\u001b[0m\u001b[0m\n\u001b[0m",
      "\u001b[0;31mNameError\u001b[0m: name 'TRUE' is not defined"
     ]
    }
   ],
   "source": [
    "type(TRUE)"
   ]
  },
  {
   "cell_type": "markdown",
   "metadata": {
    "slideshow": {
     "slide_type": "slide"
    }
   },
   "source": [
    "A Boolean *expression* is an expression that evaluates the input and produces a result which is a Boolean value. For example, the operator `==` tests if two values are equal. It produces (or yields) a Boolean value:"
   ]
  },
  {
   "cell_type": "markdown",
   "metadata": {
    "slideshow": {
     "slide_type": "fragment"
    }
   },
   "source": [
    "Usually, boolean expressions contain \"comparison\" (or \"relational\") operators.  \n",
    "Here are six common comparison operators which all produce a bool result:\n",
    "\n",
    "`x == y`  &ensp;             # Produces `True` if ... x is equal to y  \n",
    "`x != y`  &ensp;             # ... x is not equal to y  \n",
    "`x > y`   &ensp;             # ... x is greater than y  \n",
    "`x < y`  &ensp;              # ... x is less than y  \n",
    "`x >= y`  &ensp;             # ... x is greater than or equal to y  \n",
    "`x <= y`  &ensp;             # ... x is less than or equal to y  "
   ]
  },
  {
   "cell_type": "markdown",
   "metadata": {
    "slideshow": {
     "slide_type": "slide"
    }
   },
   "source": [
    "## Logical operators\n",
    "There are three logical operators, `and`, `or`, and `not`, that allow us to build more complex Boolean expressions from simpler Boolean expressions. The meaning of these operators is similar to their meaning in English. For example, `x > 0` and `x < 10` produces `True` only if x is greater than 0 and at the same time, x is less than 10."
   ]
  },
  {
   "cell_type": "markdown",
   "metadata": {
    "slideshow": {
     "slide_type": "subslide"
    }
   },
   "source": [
    "`n % 2 == 0 or n % 3 == 0` is True if either of the conditions is True, that is, if the number n is divisible by 2 or it is divisible by 3. (What do you think happens if n is divisible by both 2 and by 3 at the same time? Will the expression yield True or False? Try it in your Python interpreter.)"
   ]
  },
  {
   "cell_type": "markdown",
   "metadata": {
    "slideshow": {
     "slide_type": "subslide"
    }
   },
   "source": [
    "Finally, the `not` operator negates a Boolean value, so `not (x > y)` is `True` if (x > y) is False, that is, if x is less than or equal to y."
   ]
  },
  {
   "cell_type": "markdown",
   "metadata": {
    "slideshow": {
     "slide_type": "subslide"
    }
   },
   "source": [
    "The expression on the left of the or operator is evaluated first: if the result is True, Python does not (and need not) evaluate the expression on the right — this is called short-circuit evaluation. Similarly, for the `and` operator, if the expression on the left yields False, Python does not evaluate the expression on the right.\n",
    "\n",
    "This avoids unnecessary evaluations."
   ]
  },
  {
   "cell_type": "code",
   "execution_count": null,
   "metadata": {
    "slideshow": {
     "slide_type": "fragment"
    }
   },
   "outputs": [],
   "source": [
    "#Boolean Example\n",
    "x = 10\n",
    "y = 1\n",
    "(3 > y) and (x < 20)"
   ]
  },
  {
   "cell_type": "markdown",
   "metadata": {
    "slideshow": {
     "slide_type": "slide"
    }
   },
   "source": [
    "## Logic in Numpy\n",
    "We know we can apply most mathematical functions and they'll be applied element-wise across numpy arrays. Like this:"
   ]
  },
  {
   "cell_type": "code",
   "execution_count": null,
   "metadata": {
    "slideshow": {
     "slide_type": "fragment"
    }
   },
   "outputs": [],
   "source": [
    "import numpy as np\n",
    "x = np.array([4,2,3])\n",
    "y = np.array([1,5,6])\n",
    "\n",
    "x + y"
   ]
  },
  {
   "cell_type": "markdown",
   "metadata": {
    "slideshow": {
     "slide_type": "slide"
    }
   },
   "source": [
    "However, often we may want to evaluate across multiple np.arrays to look for the position where both elements are `True`."
   ]
  },
  {
   "cell_type": "code",
   "execution_count": null,
   "metadata": {
    "slideshow": {
     "slide_type": "fragment"
    }
   },
   "outputs": [],
   "source": [
    "# With LISTS:\n",
    "mylist1 = [True,  True,  False]  \n",
    "mylist2 = [False, True, True]  \n",
    "\n",
    "mylist1 and mylist2\n",
    "#This will simply return the second list."
   ]
  },
  {
   "cell_type": "code",
   "execution_count": null,
   "metadata": {
    "slideshow": {
     "slide_type": "fragment"
    }
   },
   "outputs": [],
   "source": [
    "#Now we'll convert to numpy arrays and try again:\n",
    "np.array(mylist1) and np.array(mylist2) \n",
    "'''this will give an error, since it is trying to determine a single \"true\" or \"false\" for the whole array, \n",
    "and unlike lists (which are \"True\" by virtue of being non-empty) they have no default \"truth value.\""
   ]
  },
  {
   "cell_type": "markdown",
   "metadata": {
    "slideshow": {
     "slide_type": "slide"
    }
   },
   "source": [
    "So to write boolean expressions with numpy arrays, we have two options. Technically, you can use a bitwise operator (i.e., `&`, `|`). Computer scientists among you might argue that this isn't entirely appropriate, but it works, as shown below:"
   ]
  },
  {
   "cell_type": "code",
   "execution_count": null,
   "metadata": {
    "slideshow": {
     "slide_type": "fragment"
    }
   },
   "outputs": [],
   "source": [
    "np.array(mylist1) & np.array(mylist2) "
   ]
  },
  {
   "cell_type": "markdown",
   "metadata": {
    "slideshow": {
     "slide_type": "slide"
    }
   },
   "source": [
    "The other alternative (and the \"technically correct\" way of evalutating) is to use numpy's \"logical_and\" function:"
   ]
  },
  {
   "cell_type": "code",
   "execution_count": null,
   "metadata": {
    "slideshow": {
     "slide_type": "fragment"
    }
   },
   "outputs": [],
   "source": [
    "np.logical_and(np.array(mylist1), np.array(mylist2))"
   ]
  },
  {
   "cell_type": "markdown",
   "metadata": {
    "slideshow": {
     "slide_type": "slide"
    }
   },
   "source": [
    "## Indexing with boolean (i.e. \"fancy indexing\")\n",
    "Let's start by applying a boolean expression to a made-up numpy array:"
   ]
  },
  {
   "cell_type": "code",
   "execution_count": null,
   "metadata": {
    "slideshow": {
     "slide_type": "fragment"
    }
   },
   "outputs": [],
   "source": [
    "A = np.array([4, 7, 3, 4, 2, 8])\n",
    "A == 4"
   ]
  },
  {
   "cell_type": "markdown",
   "metadata": {
    "slideshow": {
     "slide_type": "slide"
    }
   },
   "source": [
    "Now we'll apply those boolean values to *index* an entirely different array. We will index an array, B, in the following example by using a Boolean mask. It is called \"fancy indexing\" if arrays are indexed by passing an array of indices to access multiple array elements at once. "
   ]
  },
  {
   "cell_type": "code",
   "execution_count": null,
   "metadata": {
    "slideshow": {
     "slide_type": "fragment"
    }
   },
   "outputs": [],
   "source": [
    "B = np.array([1,2,3,4,5,6])\n",
    "B[A == 4] # Returns elements of B at index values from A where those values are equal to 4."
   ]
  },
  {
   "cell_type": "markdown",
   "metadata": {
    "slideshow": {
     "slide_type": "slide"
    }
   },
   "source": [
    "Do you think this will work if the arrays are of different lengths? Try it yourself first."
   ]
  },
  {
   "cell_type": "code",
   "execution_count": null,
   "metadata": {
    "slideshow": {
     "slide_type": "fragment"
    }
   },
   "outputs": [],
   "source": [
    "C = np.array([1,2,3,4,5,6,7]) # doesn't when array to be indexed is longer than the mask\n",
    "C[A == 4]"
   ]
  },
  {
   "cell_type": "code",
   "execution_count": null,
   "metadata": {
    "slideshow": {
     "slide_type": "fragment"
    }
   },
   "outputs": [],
   "source": [
    "C = np.array([1,2,3,4]) # nor when array to be indexed is shorter than the mask.\n",
    "C[A == 4]"
   ]
  },
  {
   "cell_type": "markdown",
   "metadata": {
    "slideshow": {
     "slide_type": "slide"
    }
   },
   "source": [
    "## Replacement\n",
    "After using boolean operations to find elements matching some criteria, we may want to replace those values. We can do this like so:"
   ]
  },
  {
   "cell_type": "code",
   "execution_count": null,
   "metadata": {
    "slideshow": {
     "slide_type": "fragment"
    }
   },
   "outputs": [],
   "source": [
    "B[A == 4] = 100\n",
    "B"
   ]
  },
  {
   "cell_type": "markdown",
   "metadata": {
    "slideshow": {
     "slide_type": "slide"
    }
   },
   "source": [
    "Notice this permanently changes the variable \"B\". Be careful to make a copy of your variable in case you don't wish to overwrite it! (like this: np.copy(var)). "
   ]
  }
 ],
 "metadata": {
  "celltoolbar": "Slideshow",
  "kernelspec": {
   "display_name": "Python 3 (ipykernel)",
   "language": "python",
   "name": "python3"
  },
  "language_info": {
   "codemirror_mode": {
    "name": "ipython",
    "version": 3
   },
   "file_extension": ".py",
   "mimetype": "text/x-python",
   "name": "python",
   "nbconvert_exporter": "python",
   "pygments_lexer": "ipython3",
   "version": "3.9.9"
  }
 },
 "nbformat": 4,
 "nbformat_minor": 2
}
