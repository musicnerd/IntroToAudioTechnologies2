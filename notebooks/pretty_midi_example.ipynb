{
 "cells": [
  {
   "cell_type": "markdown",
   "id": "3a914dad",
   "metadata": {},
   "source": [
    "# Using Pretty Midi \n",
    "\n",
    "Rather than type out a long list of MIDI values (or intervals, etc.) you may choose to use the `pretty_midi` package for reading in midi data. You can access the pitch values, durations, and velocities for each instrument in a midi file. Below is an example for how to use it. The package documentation can be found [here](http://craffel.github.io/pretty-midi/#pretty-midi-note)"
   ]
  },
  {
   "cell_type": "code",
   "execution_count": 9,
   "id": "2ee5d9ad",
   "metadata": {},
   "outputs": [],
   "source": [
    "import pretty_midi\n",
    "midi_data = pretty_midi.PrettyMIDI('../uploaded_audio/example_midi.mid')"
   ]
  },
  {
   "cell_type": "code",
   "execution_count": 10,
   "id": "4412f24b",
   "metadata": {},
   "outputs": [
    {
     "data": {
      "text/plain": [
       "[Instrument(program=0, is_drum=False, name=\"Piano\u0000\")]"
      ]
     },
     "execution_count": 10,
     "metadata": {},
     "output_type": "execute_result"
    }
   ],
   "source": [
    "midi_data.instruments\n"
   ]
  },
  {
   "cell_type": "code",
   "execution_count": 11,
   "id": "2513fd86",
   "metadata": {},
   "outputs": [
    {
     "name": "stdout",
     "output_type": "stream",
     "text": [
      "60\n",
      "58\n",
      "60\n",
      "63\n",
      "63\n",
      "63\n",
      "60\n",
      "58\n",
      "55\n",
      "54\n",
      "53\n",
      "54\n",
      "53\n",
      "51\n",
      "48\n",
      "60\n",
      "66\n",
      "65\n"
     ]
    }
   ],
   "source": [
    "for instrument in midi_data.instruments:\n",
    "    for note in instrument.notes:\n",
    "        print(note.pitch)"
   ]
  },
  {
   "cell_type": "code",
   "execution_count": 12,
   "id": "6b35837c",
   "metadata": {},
   "outputs": [
    {
     "name": "stdout",
     "output_type": "stream",
     "text": [
      "0.23645833333333333\n",
      "0.23645833333333333\n",
      "0.23645833333333333\n",
      "0.47395833333333326\n",
      "0.47395833333333326\n",
      "0.4739583333333335\n",
      "0.23645833333333321\n",
      "0.23645833333333321\n",
      "0.23645833333333321\n",
      "0.23645833333333321\n",
      "0.23645833333333321\n",
      "0.47395833333333304\n",
      "0.23645833333333321\n",
      "0.23645833333333321\n",
      "0.47395833333333304\n",
      "0.47395833333333304\n",
      "0.23645833333333321\n",
      "0.47395833333333304\n"
     ]
    }
   ],
   "source": [
    "for instrument in midi_data.instruments:\n",
    "    for note in instrument.notes:\n",
    "        print(note.duration)"
   ]
  },
  {
   "cell_type": "code",
   "execution_count": null,
   "id": "62fa8211",
   "metadata": {},
   "outputs": [],
   "source": []
  }
 ],
 "metadata": {
  "kernelspec": {
   "display_name": "Python 3 (ipykernel)",
   "language": "python",
   "name": "python3"
  },
  "language_info": {
   "codemirror_mode": {
    "name": "ipython",
    "version": 3
   },
   "file_extension": ".py",
   "mimetype": "text/x-python",
   "name": "python",
   "nbconvert_exporter": "python",
   "pygments_lexer": "ipython3",
   "version": "3.9.9"
  }
 },
 "nbformat": 4,
 "nbformat_minor": 5
}
