{
 "cells": [
  {
   "cell_type": "markdown",
   "metadata": {},
   "source": [
    "## STFT parameters and visualization"
   ]
  },
  {
   "cell_type": "markdown",
   "metadata": {},
   "source": [
    "Read in the following three files from your \"uploaded_files\" folder:  \n",
    "    (A) FemaleSingingScale.wav  \n",
    "    (B) speech_female.wav  \n",
    "    (C) rain.wav  \n",
    "    \n",
    "Ensure that amplitudes are normalized."
   ]
  },
  {
   "cell_type": "markdown",
   "metadata": {},
   "source": [
    "For each of the files above, compute multiple STFT (using `scipy.signal.stft`) using the following:    \n",
    "    (1) short STFT window with no FFT padding  \n",
    "    (2) short STFT window with large FFT padding  \n",
    "    (3) long STFT window with no FFT padding  \n",
    "    (4) long STFT window with large FFT padding.  \n",
    "\n",
    "You will graph the output of each of these using pyplot's `pcolormesh` graphing function. For each combination of file+STFT parameters, show/say/print the size of the frequency bin resolution.\n",
    "\n",
    "You should have 12 STFT calculations (and 12 plots)."
   ]
  },
  {
   "cell_type": "markdown",
   "metadata": {},
   "source": [
    "Pick one of the audio files, and a short to medium STFT window with FFT padding. Plot three spectrograms using three different window (envelope) shapes including one with no window (i.e., rectangular window). (See: https://docs.scipy.org/doc/scipy/reference/generated/scipy.signal.get_window.html#scipy.signal.get_window) for options"
   ]
  },
  {
   "cell_type": "code",
   "execution_count": null,
   "metadata": {},
   "outputs": [],
   "source": []
  }
 ],
 "metadata": {
  "kernelspec": {
   "display_name": "Python 3 (ipykernel)",
   "language": "python",
   "name": "python3"
  },
  "language_info": {
   "codemirror_mode": {
    "name": "ipython",
    "version": 3
   },
   "file_extension": ".py",
   "mimetype": "text/x-python",
   "name": "python",
   "nbconvert_exporter": "python",
   "pygments_lexer": "ipython3",
   "version": "3.9.9"
  }
 },
 "nbformat": 4,
 "nbformat_minor": 2
}
