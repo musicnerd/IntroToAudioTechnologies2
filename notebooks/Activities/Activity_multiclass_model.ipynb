{
 "cells": [
  {
   "cell_type": "markdown",
   "metadata": {},
   "source": [
    "### Multinomial regression activity\n",
    "(Predicting the class when there are more than 2 classes.)\n",
    "\n",
    "1) Download the file 'skyData.csv' (you can learn about the data [here](https://www.kaggle.com/lucidlenn/sloan-digital-sky-survey/data))"
   ]
  },
  {
   "cell_type": "markdown",
   "metadata": {},
   "source": [
    "2) Examine the type and format of your data by printing out the first few rows of data"
   ]
  },
  {
   "cell_type": "markdown",
   "metadata": {},
   "source": [
    "3) remove the columns of data that only recorded information about the equipment used to take the measurements: <br>\n",
    "\n",
    "    run = Run Number \n",
    "    rerun = Rerun Number \n",
    "    camcol = Camera column \n",
    "    field = Field number \n",
    "    plate = serial number\n",
    "    fiberid = optical fiber id\n"
   ]
  },
  {
   "cell_type": "markdown",
   "metadata": {},
   "source": [
    "4) Also move the `class` column to the first column by saving the column as a variable, and then using `df.drop` and `df.insert`"
   ]
  },
  {
   "cell_type": "markdown",
   "metadata": {},
   "source": [
    "5) Have a look at your data using the `describe` function in pandas. You should notice that categorical descriptor columns are automatically removed. (Note that mjd is a 'date' column so although it is numeric it makes no sense to look at the mean, etc.!)"
   ]
  },
  {
   "cell_type": "markdown",
   "metadata": {},
   "source": [
    "6) Should you transform any/all of the features? If so, does it make sense to standardize or normalize?"
   ]
  },
  {
   "cell_type": "markdown",
   "metadata": {},
   "source": [
    "7) Graph the features (minus the date column) in a way that allows you to examine the relation between items"
   ]
  },
  {
   "cell_type": "markdown",
   "metadata": {},
   "source": [
    "8) Check for strong correlations between features"
   ]
  },
  {
   "cell_type": "markdown",
   "metadata": {},
   "source": [
    "9) separate your dataframe into 'categories to predict' and 'predictors':"
   ]
  },
  {
   "cell_type": "markdown",
   "metadata": {},
   "source": [
    "10) partition the data into 'test' and 'train' data"
   ]
  },
  {
   "cell_type": "markdown",
   "metadata": {},
   "source": [
    "11) create a Logistic Regression classifier object using `LogisticRegression()` function from `sklearn.linear_model`"
   ]
  },
  {
   "cell_type": "markdown",
   "metadata": {},
   "source": [
    "12) Fit your model on the train set using fit() and perform prediction on the test set using predict()."
   ]
  },
  {
   "cell_type": "markdown",
   "metadata": {},
   "source": [
    "13) Evaluate your model with accuracy, precision, and recall using the `classification_report` function"
   ]
  }
 ],
 "metadata": {
  "kernelspec": {
   "display_name": "Python 3 (ipykernel)",
   "language": "python",
   "name": "python3"
  },
  "language_info": {
   "codemirror_mode": {
    "name": "ipython",
    "version": 3
   },
   "file_extension": ".py",
   "mimetype": "text/x-python",
   "name": "python",
   "nbconvert_exporter": "python",
   "pygments_lexer": "ipython3",
   "version": "3.9.9"
  }
 },
 "nbformat": 4,
 "nbformat_minor": 2
}
