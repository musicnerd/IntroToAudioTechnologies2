{
 "cells": [
  {
   "cell_type": "markdown",
   "metadata": {},
   "source": [
    "## Sinusoids Activity - basics & familiarity with plotting and manipulating sinusoids"
   ]
  },
  {
   "cell_type": "markdown",
   "metadata": {},
   "source": [
    "In this activity you'll get familiar with the `arange` and `linspace` functions as well as the `np.cos` and `np.sin` functions."
   ]
  },
  {
   "cell_type": "markdown",
   "metadata": {},
   "source": [
    "1) plot a sinusoid with only whole numbers as the input to sine where the plot should show approximately 5 cycles. How will you calculate the integer range needed? (Here the indices will match the array of values passed to the sine function--i.e., incrementing integers)"
   ]
  },
  {
   "cell_type": "markdown",
   "metadata": {},
   "source": [
    "2) how many samples were plotted?"
   ]
  },
  {
   "cell_type": "markdown",
   "metadata": {},
   "source": [
    "3) change the sinusoid to have the same start and end integer values as in question 1, but increase the total number of samples to 100. Plot your new sinusoid, but change the x-axis to have the same range as the start and end integer values (as opposed to the default index values)"
   ]
  },
  {
   "cell_type": "markdown",
   "metadata": {},
   "source": [
    "4) create (and then plot) a sinusoid of 55Hz, with amplitude of 1, and a sample rate of 44,100. Play back your sinusoid (SET VOLUME FIRST!)"
   ]
  },
  {
   "cell_type": "markdown",
   "metadata": {},
   "source": [
    "5) Change the plot (don't just zoom in) so that you see only the first n number of samples such that you see only the first 5 cycles. Change the x-axis of your plot to show milliseconds."
   ]
  },
  {
   "cell_type": "markdown",
   "metadata": {},
   "source": [
    "6) Change the frequency from 55 to other value(s) and re-plot the same subset as above"
   ]
  },
  {
   "cell_type": "markdown",
   "metadata": {},
   "source": [
    "7) Change the amplitude from 1 to other value(s) and replot (and listen -- BE EXTRA CAREFUL!)"
   ]
  },
  {
   "cell_type": "markdown",
   "metadata": {},
   "source": [
    "8) Delay the onset of the sinusoid from question 4 by a 1/4 cycle. Plot the first 100 miliseconds. Compare the resulting sounds from your original and delayed sinusoids: can you hear any difference?"
   ]
  }
 ],
 "metadata": {
  "kernelspec": {
   "display_name": "Python 3 (ipykernel)",
   "language": "python",
   "name": "python3"
  },
  "language_info": {
   "codemirror_mode": {
    "name": "ipython",
    "version": 3
   },
   "file_extension": ".py",
   "mimetype": "text/x-python",
   "name": "python",
   "nbconvert_exporter": "python",
   "pygments_lexer": "ipython3",
   "version": "3.9.9"
  }
 },
 "nbformat": 4,
 "nbformat_minor": 2
}
