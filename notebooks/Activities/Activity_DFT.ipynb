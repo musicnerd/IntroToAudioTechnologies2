{
 "cells": [
  {
   "cell_type": "markdown",
   "metadata": {},
   "source": [
    "### 1) Generate a complex sinusoid \n",
    "Complete the function cSine(A, k, phi, N), to generate a complex sinusoid. given its amplitude A, periodicity k, initial phase phi (radians), and number of samples (N).\n"
   ]
  },
  {
   "cell_type": "markdown",
   "metadata": {},
   "source": [
    "### 2) Compose a DFT algorithm\n",
    "WARNING! DO NOT USE ON ANYTHING WITH LENGTH LONGER THAN ONE SECOND! (Even shorter is recommended)."
   ]
  },
  {
   "cell_type": "markdown",
   "metadata": {},
   "source": [
    "Complete the function DFT(x) so that it implements the discrete Fourier transform (DFT) for a given signal.  \n",
    "\n",
    "Given an array x of length N, the function should return its DFT of length N, with the k indices (DFT coefficients) ranging from 0 to N - 1. The input argument to the function is a numpy array x and the function should return a numpy array X, which is the DFT of x. "
   ]
  },
  {
   "cell_type": "markdown",
   "metadata": {},
   "source": [
    "### 3) Modify the DFT function\n",
    "\n",
    "Include a built-in graphing parameter that outputs the time-series of the original signal next to (or above) a graph of the magnitude spectrum. (Do NOT use matplotlib's `magnitude_spectrum` plot function).\n",
    "\n",
    "(a) Plot the output of two different signals with k = integer value, and k = non-integer value (e.g., 7 and 7.5)\n",
    "\n",
    "(b) Visualize the DFT resolution by playing with the values of N (while holding k constant)"
   ]
  },
  {
   "cell_type": "markdown",
   "metadata": {},
   "source": [
    "### 4) Real-valued signals\n",
    "\n",
    "Generate three different real-valued signals that you will pass to the DFT algorithm.\n",
    "**These should all be a fraction of a second in length** and should be complex signals (i.e., they should have harmonics and not just a single fundamental).\n",
    "\n",
    "Try first yourself by adding a few cosines together.\n",
    "\n",
    "Pass each of these signals to the DFT and plot the magnitude spectrum of each."
   ]
  },
  {
   "cell_type": "markdown",
   "metadata": {},
   "source": [
    "### 5) Compose an IDFT algorithm\n",
    "\n",
    "Complete the function IDFT(X) so that it implements the inverse discrete Fourier transform (IDFT). Given a frequency spectrum X of length N, the function should return its IDFT x, also of length N. Assume that the frequency index of the input spectrum ranges from 0 to N - 1.\n",
    "\n",
    "The input argument to the function is a numpy array X of the complex frequency spectrum and the function should return a numpy array x, the IDFT of X. Remember to scale the output appropriately."
   ]
  }
 ],
 "metadata": {
  "kernelspec": {
   "display_name": "Python 3 (ipykernel)",
   "language": "python",
   "name": "python3"
  },
  "language_info": {
   "codemirror_mode": {
    "name": "ipython",
    "version": 3
   },
   "file_extension": ".py",
   "mimetype": "text/x-python",
   "name": "python",
   "nbconvert_exporter": "python",
   "pygments_lexer": "ipython3",
   "version": "3.9.9"
  }
 },
 "nbformat": 4,
 "nbformat_minor": 2
}
