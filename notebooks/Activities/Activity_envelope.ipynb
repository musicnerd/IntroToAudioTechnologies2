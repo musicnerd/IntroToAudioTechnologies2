{
 "cells": [
  {
   "cell_type": "markdown",
   "metadata": {},
   "source": [
    "## Activity: Amplitude Envelopes"
   ]
  },
  {
   "cell_type": "markdown",
   "metadata": {},
   "source": [
    "#### Step 1: Hard code an amplitude envelope\n",
    "\n",
    "In order to see how an envelope could work, work on your own for 5-10 minutes to come up with an idea on how you could draw an envelope. Then, come back together with your group and discuss who has the best idea/implementation.\n",
    "\n",
    "Begin by first realizing your \"hard-coded\" implementation. Then, switch to building a function for the envelope generator. "
   ]
  },
  {
   "cell_type": "markdown",
   "metadata": {},
   "source": [
    "#### Step2 : Design an envelope funtion"
   ]
  },
  {
   "cell_type": "markdown",
   "metadata": {},
   "source": [
    "Note: depending on your implementation, the following functions may come in handy:\n",
    "\n",
    "`np.max` returns the maximum value in an array  \n",
    "`np.min` returns the minimum value in an array  \n",
    "`np.size` returns the total length of an array   \n",
    "`np.where` returns index value(s) matching boolean conditions  \n",
    "`np.zeros(n)` returns an array of zeros of length n  \n",
    "`np.ones(n)` returns an array of ones of length n  \n",
    "`np.full(n, val)` returns an array of values (val) of length n  "
   ]
  },
  {
   "cell_type": "markdown",
   "metadata": {},
   "source": [
    "Write a function that will modify a passed sound according to an ADSR envelope that is user-defined. Your function should include the following arguments at a minimum:\n",
    "\n",
    "1) a: Time to reach maximum amplitude (can be zero to length of input). \n",
    "\n",
    "2) s: The level (amplitude) of the sustain portion. \n",
    "\n",
    "3) d: Time to descend from max to sustain level (N.B. time can be zero, and sustain can be False.)\n",
    "\n",
    "4) r: Time to descend to zero.\n",
    "\n",
    "5) x: array of samples of length n that will be modulated by the envelope.\n",
    "\n",
    "\n",
    "**Notes**\n",
    "\n",
    "Optimizing your function:  The following are things to consider, but not necessary as a \"first step\":  \n",
    "\n",
    "* Your function ideally should allow for all scenarios including passing sound arrays of various lengths, and, it should allow for a sharp attack followed by an immediate decay with zero sustain (like a plucked or percussive sound) regardless of the total length of the sound passed. I.e., If there is no sustain value, then the Decay (#3) and Sustain (#2) are moot, so your function should just ascend to peak value over some time, x, and then descend to zero over time x.\n",
    "\n",
    "\n",
    "* Be sure to include default values to all your arguments (except #5)\n",
    "\n",
    "\n",
    "* You will need to define additional defaults within the function such as the sample rate. (You may want to make this an argument variable with a default value).\n"
   ]
  }
 ],
 "metadata": {
  "kernelspec": {
   "display_name": "Python 3 (ipykernel)",
   "language": "python",
   "name": "python3"
  },
  "language_info": {
   "codemirror_mode": {
    "name": "ipython",
    "version": 3
   },
   "file_extension": ".py",
   "mimetype": "text/x-python",
   "name": "python",
   "nbconvert_exporter": "python",
   "pygments_lexer": "ipython3",
   "version": "3.9.9"
  }
 },
 "nbformat": 4,
 "nbformat_minor": 2
}
