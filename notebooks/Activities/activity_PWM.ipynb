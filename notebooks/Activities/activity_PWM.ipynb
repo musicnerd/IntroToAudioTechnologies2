{
 "cells": [
  {
   "cell_type": "markdown",
   "id": "e93292c1",
   "metadata": {},
   "source": [
    "# Pulse width modulation activity"
   ]
  },
  {
   "cell_type": "markdown",
   "id": "9b047c89",
   "metadata": {},
   "source": [
    "1. Create a function for creating your own PWM sounds. Using scipy.signal to generate sawtooth waves, and optionally using widgets to interactively control the pwm, mess around with combining sawtooth waves.\n",
    "\n",
    "Recall the effect of:\n",
    "\n",
    "* adding or subtracting sawtooth waves with different phases\n",
    "* adding or subtracting sawtooth waves of differing speeds (frequencies)"
   ]
  },
  {
   "cell_type": "markdown",
   "id": "01b6f218",
   "metadata": {},
   "source": [
    "2. Try passing an amplitude-modulated or frequency-modulated sawtooth into your function (such that one is modulated with respect to the other) and explore the effect(s)"
   ]
  }
 ],
 "metadata": {
  "kernelspec": {
   "display_name": "Python 3 (ipykernel)",
   "language": "python",
   "name": "python3"
  },
  "language_info": {
   "codemirror_mode": {
    "name": "ipython",
    "version": 3
   },
   "file_extension": ".py",
   "mimetype": "text/x-python",
   "name": "python",
   "nbconvert_exporter": "python",
   "pygments_lexer": "ipython3",
   "version": "3.9.9"
  }
 },
 "nbformat": 4,
 "nbformat_minor": 5
}
