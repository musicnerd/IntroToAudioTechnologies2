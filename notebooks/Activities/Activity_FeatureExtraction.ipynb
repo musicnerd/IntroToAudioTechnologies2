{
 "cells": [
  {
   "cell_type": "markdown",
   "metadata": {},
   "source": [
    "### Feature Extraction Workflow Activity"
   ]
  },
  {
   "cell_type": "markdown",
   "metadata": {},
   "source": [
    "In the folder called 'Practice Files' you will find 10 audio tracks. Create a series of functions that will:\n",
    "\n",
    "* read in the audio from each file from the folder\n",
    "* compute at least five global features that we have already discussed (e.g., mean ZCR, mean spectral_centroid, etc.)\n",
    "* output each feature to a column of a pandas dataframe\n",
    "\n",
    "Ensure that:\n",
    "\n",
    "* all audio files are the same length (set all as same length as shortest available)\n",
    "* all features use audio loaded in the same manner (e.g., same read/load function, same sampling rate, normalized, etc.)\n",
    "* all features computed using same FFT parameters (e.g., window length)\n",
    "* the final pandas dataframe has columns labeled \n",
    "* there is a single row for every song with every feature in its own column (note that multidimensional features will have multiple columns)\n"
   ]
  },
  {
   "cell_type": "code",
   "execution_count": 2,
   "metadata": {},
   "outputs": [
    {
     "name": "stdout",
     "output_type": "stream",
     "text": [
      "I am root: ./PracticeFiles I am dirs: [] I am files: ['band_clip.wav', 'hallelujah_clip.wav', 'sgtpepper.wav', 'trio_clip.wav', 'piano1_clip.wav', 'brendel.wav', 'ella_clip.wav', 'eleanorrigby.wav', 'quartet_clip.wav', 'rhapsody_clip.wav']\n"
     ]
    }
   ],
   "source": [
    "import os\n",
    "for root, dirs, files in os.walk('./PracticeFiles'):\n",
    "    print(\"I am root:\",root, \"I am dirs:\", dirs, \"I am files:\", files)"
   ]
  },
  {
   "cell_type": "code",
   "execution_count": 20,
   "metadata": {},
   "outputs": [],
   "source": [
    "from scipy.io.wavfile import read\n",
    "from scipy import signal\n",
    "from librosa import feature\n",
    "\n",
    "#Figure out shortest file\n",
    "l = []\n",
    "for root, dirs, files in os.walk('./PracticeFiles'):\n",
    "    for i in files:\n",
    "        (fs,data) = read('./PracticeFiles/'+i)\n",
    "        l.append(data.size)\n",
    "        \n",
    "        \n",
    "# List of functions - at least two should be your own; others can use librosa.\n",
    "# your code here\n",
    "# \n",
    "# "
   ]
  },
  {
   "cell_type": "markdown",
   "metadata": {},
   "source": [
    "Standardize the scores of each column by creating z-scores (column mean set to 0, and standard deviation = 1). You may do this either before or after you've created the dataframe."
   ]
  },
  {
   "cell_type": "markdown",
   "metadata": {},
   "source": [
    "* handy helper function if you don't know of it:\n",
    "\n",
    "`os.walk(top, topdown=True, onerror=None, followlinks=False)`\n",
    "\n",
    "*Generates the file names in a directory tree by walking the tree either top-down or bottom-up. For each directory in the tree rooted at directory top (including top itself), it yields a 3-tuple (dirpath, dirnames, filenames).*"
   ]
  },
  {
   "cell_type": "markdown",
   "metadata": {},
   "source": [
    "Plot the distribution of features from each column. Pandas allows you to use your dataframe as an object that can call `plot` like so:\n",
    "\n",
    "`nameOfDataFrame.plot()` \n",
    "\n",
    "This should plot all columns at the same time and display a legend."
   ]
  }
 ],
 "metadata": {
  "kernelspec": {
   "display_name": "Python 3 (ipykernel)",
   "language": "python",
   "name": "python3"
  },
  "language_info": {
   "codemirror_mode": {
    "name": "ipython",
    "version": 3
   },
   "file_extension": ".py",
   "mimetype": "text/x-python",
   "name": "python",
   "nbconvert_exporter": "python",
   "pygments_lexer": "ipython3",
   "version": "3.9.13"
  }
 },
 "nbformat": 4,
 "nbformat_minor": 2
}
