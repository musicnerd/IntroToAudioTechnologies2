{
 "cells": [
  {
   "cell_type": "markdown",
   "metadata": {},
   "source": [
    "### Activity: spectral features"
   ]
  },
  {
   "cell_type": "markdown",
   "metadata": {},
   "source": [
    "Open and read files:\n",
    "AcousticGuitar.wav; 80spopDrums.wav"
   ]
  },
  {
   "cell_type": "code",
   "execution_count": null,
   "metadata": {},
   "outputs": [],
   "source": [
    "Plot the raw audio of each"
   ]
  },
  {
   "cell_type": "markdown",
   "metadata": {},
   "source": [
    "Calculate the spectral centroid and plot against time (use `librosa` function)"
   ]
  },
  {
   "cell_type": "markdown",
   "metadata": {},
   "source": [
    "Calculate spectral flux of each (by comparing the current value of each magnitude spectrum bin in the current window from the corresponding values of the previous window. Each of these differences is then squared, and the result is the sum of the squares.) You may use the `scipy.signal.spectrogram` or the `pyplot.specgram` function from matplotlib. \n",
    "\n",
    "Make sure to normalize spectra before calculating flux.\n",
    "\n",
    "Plot your results"
   ]
  }
 ],
 "metadata": {
  "kernelspec": {
   "display_name": "Python 3",
   "language": "python",
   "name": "python3"
  },
  "language_info": {
   "codemirror_mode": {
    "name": "ipython",
    "version": 3
   },
   "file_extension": ".py",
   "mimetype": "text/x-python",
   "name": "python",
   "nbconvert_exporter": "python",
   "pygments_lexer": "ipython3",
   "version": "3.7.6"
  }
 },
 "nbformat": 4,
 "nbformat_minor": 2
}
