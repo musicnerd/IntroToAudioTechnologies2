{
 "cells": [
  {
   "cell_type": "markdown",
   "metadata": {},
   "source": [
    "# Spectral Functions Activity"
   ]
  },
  {
   "cell_type": "markdown",
   "metadata": {},
   "source": [
    "**Note** You may use either `numpy`, `scipy`, or `librosa` to calculate the STFT.\n",
    "\n",
    "Ensure any pre-processing is taken care of to ensure tracks have similar input representations (e.g,. int, float; normalized?) and that the chosen STFT function can handle the input. \n",
    "\n",
    "Test all your functions on the following three files:"
   ]
  },
  {
   "cell_type": "code",
   "execution_count": null,
   "metadata": {},
   "outputs": [],
   "source": [
    "from scipy.io.wavfile import read\n",
    "\n",
    "fs, data = read('../uploaded_audio/piano.wav')\n",
    "fs2, data2 = read('../uploaded_audio/speech-female.wav')\n",
    "fs3, data3 = read('../uploaded_audio/orchestra.wav')"
   ]
  },
  {
   "cell_type": "code",
   "execution_count": null,
   "metadata": {},
   "outputs": [],
   "source": [
    "from IPython.display import Audio\n",
    "Audio(data2, rate=fs2)"
   ]
  },
  {
   "cell_type": "markdown",
   "metadata": {},
   "source": [
    "### Zero Crossing Rate\n",
    "\n",
    "See if you can come up with a simple way of calculating the zero crossing rate for a given window of audio. You may omit any overlap of frames. Use a frame size of 30-50ms. Write your function below."
   ]
  },
  {
   "cell_type": "code",
   "execution_count": null,
   "metadata": {},
   "outputs": [],
   "source": [
    "# your code here\n"
   ]
  },
  {
   "cell_type": "markdown",
   "metadata": {},
   "source": [
    "### Spectral Centroid"
   ]
  },
  {
   "cell_type": "markdown",
   "metadata": {},
   "source": [
    "1. Write your own function to calculate spectral centroid for two clips from our \"audio files\" folder (below). Ensure you understand the parameters you have chosen (e.g., sample rate, FFT size, zero padding, etc.)\n",
    "\n",
    "Use a randomly selected 30s clip from two different files to test your function. Compare your output with `librosa`'s built-in centroid function. \n",
    "\n",
    "Normalize the audio values to between zero and one. Plot your results overlaid over the audio signal."
   ]
  },
  {
   "cell_type": "code",
   "execution_count": null,
   "metadata": {},
   "outputs": [],
   "source": [
    "# your code here\n",
    "\n"
   ]
  },
  {
   "cell_type": "markdown",
   "metadata": {},
   "source": [
    "### Spectral Flux"
   ]
  },
  {
   "cell_type": "markdown",
   "metadata": {},
   "source": [
    "2. Write your own function to compute spectral flux. Compare the output for one of the music tracks above with the file below (speech). "
   ]
  },
  {
   "cell_type": "code",
   "execution_count": null,
   "metadata": {},
   "outputs": [],
   "source": [
    "# Your function here\n",
    "(fs, x) = read('../uploaded_files/mystery_sound.wav')"
   ]
  },
  {
   "cell_type": "code",
   "execution_count": null,
   "metadata": {},
   "outputs": [],
   "source": [
    "# your code here"
   ]
  },
  {
   "cell_type": "markdown",
   "metadata": {},
   "source": [
    "### MFCCs"
   ]
  },
  {
   "cell_type": "markdown",
   "metadata": {},
   "source": [
    "3. Compute the MFCCs for equal (time) seqments of all three files, (e.g., 30-60s -- avoid the beginning). Use the first 20 coefficients.\n",
    "\n",
    "**Note** do not create your own function. Use `librosa`. Be sure to read the documentation carefully."
   ]
  },
  {
   "cell_type": "code",
   "execution_count": null,
   "metadata": {},
   "outputs": [],
   "source": [
    "#your code here"
   ]
  }
 ],
 "metadata": {
  "kernelspec": {
   "display_name": "Python 3 (ipykernel)",
   "language": "python",
   "name": "python3"
  },
  "language_info": {
   "codemirror_mode": {
    "name": "ipython",
    "version": 3
   },
   "file_extension": ".py",
   "mimetype": "text/x-python",
   "name": "python",
   "nbconvert_exporter": "python",
   "pygments_lexer": "ipython3",
   "version": "3.9.13"
  }
 },
 "nbformat": 4,
 "nbformat_minor": 2
}
