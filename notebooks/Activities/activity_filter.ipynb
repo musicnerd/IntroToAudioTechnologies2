{
 "cells": [
  {
   "cell_type": "markdown",
   "metadata": {},
   "source": [
    "## Class Activity: Harmonic content and filtering\n",
    "Take the noisy signal and filter it to remove as much noise as possible while leaving as much of the signal content"
   ]
  },
  {
   "cell_type": "code",
   "execution_count": null,
   "metadata": {},
   "outputs": [],
   "source": [
    "import numpy as np\n",
    "import matplotlib.pyplot as plt\n",
    "from scipy.signal import square"
   ]
  },
  {
   "cell_type": "code",
   "execution_count": null,
   "metadata": {},
   "outputs": [],
   "source": [
    "\n",
    "np.random.seed(123456789)   # repeatable results\n",
    "f0 = 40\n",
    "t = np.arange(0,1.0,1.0/44100)\n",
    "mysignal = square(2*np.pi*f0*t)\n",
    "mynoise = 1.0*np.random.randn(mysignal.size)\n",
    "newsig = mysignal+mynoise\n",
    "\n",
    "plt.figure(figsize=(8,6))\n",
    "plt.plot(t, newsig, 'g', t, mysignal, 'black');"
   ]
  },
  {
   "cell_type": "markdown",
   "metadata": {},
   "source": [
    "1) Use pyplot's `magnitude_spectrum` to plot the noise and the signal separately (they can be on the same graph)"
   ]
  },
  {
   "cell_type": "markdown",
   "metadata": {},
   "source": [
    "2) Try to apply a low pass filter to remove the noise frequency content from the signal. Experiment with filter order."
   ]
  },
  {
   "cell_type": "markdown",
   "metadata": {},
   "source": [
    "3) Plot the resulting signal after filtering"
   ]
  },
  {
   "cell_type": "markdown",
   "metadata": {},
   "source": [
    "4) Listen to the sound before and after filtering"
   ]
  },
  {
   "cell_type": "markdown",
   "metadata": {},
   "source": [
    "## Creating inharmonic sounds\n",
    "Write a function to create \"random\" inharmonic sounds (but not noise).\n",
    "Remember that there should be clear periodicity but at non-integer multiples of some base value f0"
   ]
  },
  {
   "cell_type": "code",
   "execution_count": null,
   "metadata": {},
   "outputs": [],
   "source": [
    "# your code here"
   ]
  }
 ],
 "metadata": {
  "kernelspec": {
   "display_name": "Python 3 (ipykernel)",
   "language": "python",
   "name": "python3"
  },
  "language_info": {
   "codemirror_mode": {
    "name": "ipython",
    "version": 3
   },
   "file_extension": ".py",
   "mimetype": "text/x-python",
   "name": "python",
   "nbconvert_exporter": "python",
   "pygments_lexer": "ipython3",
   "version": "3.9.13"
  }
 },
 "nbformat": 4,
 "nbformat_minor": 2
}
