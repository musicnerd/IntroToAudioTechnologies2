{
 "cells": [
  {
   "cell_type": "markdown",
   "metadata": {},
   "source": [
    "## Build an FM synthesis function\n",
    "1) Create a function for manipulating FM synthesis.\n",
    "\n",
    "Include the following arguments: \n",
    "\n",
    "* Depth of modulation *or* modulation index  \n",
    "* Carrier frequency\n",
    "* Modulator frequency\n",
    "* time in seconds\n",
    "\n",
    "have your function return a graph of a *portion* of the wave form (e.g., 1/2 second) as well as an audio player. Note that you can autoplay with the IPython audio player by including the argument \"autoplay=True\"\n",
    "\n",
    "You may optionally use a widget to control your function."
   ]
  },
  {
   "cell_type": "markdown",
   "metadata": {},
   "source": [
    "2) Using your function, try to create the following types of sounds:\n",
    "\n",
    "    a) Inharmonic   \n",
    "    b) harmonic where the carrier is the fundamental  \n",
    "    c) harmonic where the carrier is not the fundamental.  \n",
    "    \n",
    "Try to understand the relation between the modulator and carrier in contributing to harmonic versus inharmonic sounds."
   ]
  },
  {
   "cell_type": "markdown",
   "metadata": {},
   "source": [
    "3) Modify your original FM function so as to include a widget. The widget should control the frequency of the carrier, the frequency of the modulator, and the modulator Index. Be sure to control the min and max values of these parameters via the widget. Output both a graph of the first second of audio, and the full length of the audio itself.\n",
    "\n",
    "*Note: using IPython.display.display you can return more than 1 output in a Jupyter notebook. E.g., \n",
    "display(a)\n",
    "display(b)*"
   ]
  },
  {
   "cell_type": "code",
   "execution_count": null,
   "metadata": {},
   "outputs": [],
   "source": []
  }
 ],
 "metadata": {
  "kernelspec": {
   "display_name": "Python 3 (ipykernel)",
   "language": "python",
   "name": "python3"
  },
  "language_info": {
   "codemirror_mode": {
    "name": "ipython",
    "version": 3
   },
   "file_extension": ".py",
   "mimetype": "text/x-python",
   "name": "python",
   "nbconvert_exporter": "python",
   "pygments_lexer": "ipython3",
   "version": "3.9.9"
  }
 },
 "nbformat": 4,
 "nbformat_minor": 2
}
