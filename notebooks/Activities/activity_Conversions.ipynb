{
 "cells": [
  {
   "cell_type": "markdown",
   "metadata": {},
   "source": [
    "## BPM to Ms "
   ]
  },
  {
   "cell_type": "markdown",
   "metadata": {},
   "source": [
    "Recall: BPM = Beats Per Minute.\n",
    "\n",
    "Tempo in BPM usually refers to the *tactus* unit (e.g., the quarter note in 4/4 time)\n",
    "There are 60,000 milliseconds in a minute \n",
    "    \n",
    "Therefore: \n",
    "60000/BPM = one \"beat\" in milliseconds\n",
    "\n",
    "60 BPM = 1 quarter note = 1 second = 1000 ms\n",
    "\n",
    "120 BPM = 2 quarter notes = 1 second, or 1 quarter note = .5 second = 500 ms\n"
   ]
  },
  {
   "cell_type": "markdown",
   "metadata": {},
   "source": [
    "### Exercise 1"
   ]
  },
  {
   "cell_type": "markdown",
   "metadata": {},
   "source": [
    "Create a simple function that will take as input a series of durations (in reciprocals of common notation units, e.g., \"4, 4, 8, 2\") and a tempo in BPM, and output a series of vectors that output the length in seconds (or milliseconds). \n",
    "\n",
    "Note: You can assume the quarter note gets the beat (or you can make your function fancier by adding a beat_val argument).\n"
   ]
  },
  {
   "cell_type": "markdown",
   "metadata": {},
   "source": [
    "## MIDI to Ratio to Hz to ASA notation"
   ]
  },
  {
   "cell_type": "markdown",
   "metadata": {},
   "source": [
    "Recall that an octave is an interval where the two notes forming the interval have frequencies in the ratio 2:1  \n",
    "E.g., 440Hz = A4 \n",
    "\n",
    "In equal temperament, an octave comprises 12 equal semitones.\n",
    "Because frequency is logarithmic, if we ascend 12 (equal) steps, we've increase the frequency ratio by $r^{12}$, and $r^{12}  =  2$  or   $r  =  2^{1/12}$\n",
    "\n",
    "So the frequency ratio of a semitone in equal temperament is the twelfth root of two, or approximately 1.059"
   ]
  },
  {
   "cell_type": "markdown",
   "metadata": {},
   "source": [
    "Recall midi numbers go from 0 to 128 with each value representing an increase in semitone (by convention in equal temperament) which represents the range from approximately 8Hz to 13,300 Hz. The Acoustical Society of America (ASA) notation uses a letter name combined with an octave value to represent the note + octave representation.\n",
    "\n",
    "* 21 = A0 --> the lowest A on a piano keyboard\n",
    "* 60 = C4 --> middle C\n",
    "* 69 = A4 --> 440.0 Hz (a common tuning frequency)"
   ]
  },
  {
   "cell_type": "markdown",
   "metadata": {},
   "source": [
    "A handy set of formulas are useful for converting MIDI note values to Hz. First, we need a reference note and frequency. This is usually A4, which is often set at 440 Hz. (Though it is arbitrary and any pairing of MIDI number and frequency integer values would work). For a note that lies $n$ semitones higher (or $−n$ semitones lower), the frequency is then:\n",
    "\n",
    "$f_n  =  2^{n/12}*440\\ Hz$\n",
    "\n",
    "Conversely, one can obtain n, the number of semitones from A4, from\n",
    "\n",
    "$n = 12*log_2(f_n/440\\ Hz)$\n",
    "\n",
    "\n",
    "Thus if using A4 = 440 Hz as a reference the reference MIDI value will be 69, so to calculate the MIDI value replace n with n-69 in the first equation, and n+69 in the second equation."
   ]
  },
  {
   "cell_type": "markdown",
   "metadata": {},
   "source": [
    "### Exercise 2\n",
    "\n",
    "(a) Create a function that takes a series of MIDI numbers and converts them to frequencies in Hz (round to 3 or 4 decimal places)."
   ]
  },
  {
   "cell_type": "markdown",
   "metadata": {},
   "source": [
    "(b) Create a function that takes a series of semitones (positive or negative) and convert them to frequencies in Hz"
   ]
  },
  {
   "cell_type": "markdown",
   "metadata": {},
   "source": [
    "## Bonus\n",
    "\n",
    "If you wanted to write a melody in a simple way, (e.g., \"happy birthday\") what would be the easiest way to do it? Probably not a string of midi numbers. You might use solfege, for example, or pitch class letter names.\n",
    "\n",
    "Write a function that would either convert solfege to a string of values in Hz, given a tonic; or, convert a string of pitch class letter names. Keep in mind what you will do to differentiate between octaves (e.g., \"sol to do\" could go up or down)"
   ]
  }
 ],
 "metadata": {
  "kernelspec": {
   "display_name": "Python 3 (ipykernel)",
   "language": "python",
   "name": "python3"
  },
  "language_info": {
   "codemirror_mode": {
    "name": "ipython",
    "version": 3
   },
   "file_extension": ".py",
   "mimetype": "text/x-python",
   "name": "python",
   "nbconvert_exporter": "python",
   "pygments_lexer": "ipython3",
   "version": "3.9.9"
  }
 },
 "nbformat": 4,
 "nbformat_minor": 2
}
