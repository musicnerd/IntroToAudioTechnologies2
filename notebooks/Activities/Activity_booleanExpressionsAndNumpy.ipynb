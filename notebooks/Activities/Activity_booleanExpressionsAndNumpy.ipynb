{
 "cells": [
  {
   "cell_type": "markdown",
   "metadata": {},
   "source": [
    "# Activity : Boolean expressions and Numpy\n",
    "Copy this notebook into your own workspace. For each markdown cell, add a cell of code below to try each activity."
   ]
  },
  {
   "cell_type": "markdown",
   "metadata": {},
   "source": [
    "1) Read in a .wav file (from Canvas, like before) and assign it a variable name. "
   ]
  },
  {
   "cell_type": "markdown",
   "metadata": {},
   "source": [
    "2) Make a plot of the file so you can see the distribution of amplitude values (be careful if it is large. If your machine is slow, use a short/small sound file). "
   ]
  },
  {
   "cell_type": "markdown",
   "metadata": {},
   "source": [
    "Find the position of everywhere in the file where the amplitude is greater than x (x is a variable and you get to decide its value.) "
   ]
  },
  {
   "cell_type": "markdown",
   "metadata": {},
   "source": [
    "Reassign each sample that matches your 'greater than x' criteria to a new value (again of your choosing - but we're going to play it back, so be careful here!)"
   ]
  },
  {
   "cell_type": "markdown",
   "metadata": {},
   "source": [
    "Play back your new array. (Careful please!)"
   ]
  },
  {
   "cell_type": "markdown",
   "metadata": {},
   "source": [
    "3) Take your original array variable from #1. Take every 9th sample and apply some mathematical function (of your choice). Save the result as a new variable."
   ]
  },
  {
   "cell_type": "markdown",
   "metadata": {},
   "source": [
    "Take every fifth sample of the original and apply some *other* mathematical function of your choice. Save this as a new variable."
   ]
  },
  {
   "cell_type": "markdown",
   "metadata": {},
   "source": [
    "Take these two modified sets of samples and now concatenate those together into a single array. Save this as a new variable."
   ]
  },
  {
   "cell_type": "markdown",
   "metadata": {},
   "source": [
    "Play back this final resulting array (always be careful with volume!!)"
   ]
  },
  {
   "cell_type": "markdown",
   "metadata": {},
   "source": [
    "4) Read in a .wav file and assign it to a variable."
   ]
  },
  {
   "cell_type": "markdown",
   "metadata": {},
   "source": [
    "Assuming your sample rate is 44,100 (unless you know otherwise), figure out how many samples you would need to define a \"grain\" of sound that is 100ms long. Make one grain from the beginning and another from somewhere else in the file."
   ]
  },
  {
   "cell_type": "markdown",
   "metadata": {},
   "source": [
    "Optional step: Take your second grain and reverse all the values."
   ]
  },
  {
   "cell_type": "markdown",
   "metadata": {},
   "source": [
    "Append these two grains together, and then repeat (i.e. continuously append) the whole thing until you have two seconds worth of sound. Play your new sound back."
   ]
  },
  {
   "cell_type": "markdown",
   "metadata": {},
   "source": [
    "5) Repeat \\#3 but use \"grains\" from at least two different original .wav files. You might attempt to slice each track in 50-100ms increments and effectively glue them altnernately together to form a new piece of music."
   ]
  }
 ],
 "metadata": {
  "kernelspec": {
   "display_name": "Python 3",
   "language": "python",
   "name": "python3"
  },
  "language_info": {
   "codemirror_mode": {
    "name": "ipython",
    "version": 3
   },
   "file_extension": ".py",
   "mimetype": "text/x-python",
   "name": "python",
   "nbconvert_exporter": "python",
   "pygments_lexer": "ipython3",
   "version": "3.7.4"
  }
 },
 "nbformat": 4,
 "nbformat_minor": 2
}
