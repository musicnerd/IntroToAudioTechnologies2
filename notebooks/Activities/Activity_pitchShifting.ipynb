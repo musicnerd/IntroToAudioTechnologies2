{
 "cells": [
  {
   "cell_type": "markdown",
   "id": "783267e2",
   "metadata": {},
   "source": [
    "#### Make a melody using one non-synthesized stationary musical sample as your 'unit generator' and pitch shifting. For now, all notes will be the same length."
   ]
  },
  {
   "cell_type": "markdown",
   "id": "3b2868dc",
   "metadata": {},
   "source": [
    "1. read in audio to be unit generator - take note of the pitch. Note they are not all the same length - Use one of:\n",
    "\n",
    "violin-B3.wav  \n",
    "vibraphone-C6.wav  \n",
    "soprano-E4.wav  \n",
    "organ-C3.wav  \n",
    "oboe-A4.wav  \n",
    "flute-A4.wav  "
   ]
  },
  {
   "cell_type": "markdown",
   "id": "9a7d1b9b",
   "metadata": {},
   "source": [
    "2. Apply your envelope function to smooth (i.e.) the ends of the sound. You may want to first truncate your sound to only 1 second."
   ]
  },
  {
   "cell_type": "markdown",
   "id": "42f69f7d",
   "metadata": {},
   "source": [
    "3. Using the same functionality as shown in leture, apply pitch shifting to your unit sound so as to have a chain of arrays, one at each pitch level for your melody.  Use `np.hstack` (works like concatenate) to chain them together and play back. (Note: make sure your melody is short!!)"
   ]
  }
 ],
 "metadata": {
  "kernelspec": {
   "display_name": "Python 3 (ipykernel)",
   "language": "python",
   "name": "python3"
  },
  "language_info": {
   "codemirror_mode": {
    "name": "ipython",
    "version": 3
   },
   "file_extension": ".py",
   "mimetype": "text/x-python",
   "name": "python",
   "nbconvert_exporter": "python",
   "pygments_lexer": "ipython3",
   "version": "3.9.9"
  }
 },
 "nbformat": 4,
 "nbformat_minor": 5
}
