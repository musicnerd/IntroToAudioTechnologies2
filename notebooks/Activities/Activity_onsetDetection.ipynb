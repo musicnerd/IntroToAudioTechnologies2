{
 "cells": [
  {
   "cell_type": "markdown",
   "metadata": {},
   "source": [
    "Read in the following files below, and normalize.\n",
    "\n",
    "a) 80sPopDrums.wav  \n",
    "b) TheBlackKeys_track4.wav (use random 10s from near middle of track)  \n",
    "c) prelude_cmaj_10s.wav (on Canvas)  "
   ]
  },
  {
   "cell_type": "code",
   "execution_count": 3,
   "metadata": {},
   "outputs": [],
   "source": [
    "from scipy.io.wavfile import read\n",
    "(fs, x) = read('../uploaded_files/80sPopDrums.wav')"
   ]
  },
  {
   "cell_type": "code",
   "execution_count": 5,
   "metadata": {},
   "outputs": [],
   "source": [
    "import numpy as np\n",
    "xnorm = x / np.abs(x.max())"
   ]
  },
  {
   "cell_type": "markdown",
   "metadata": {},
   "source": [
    "#### For each of the above tracks (start with just one):"
   ]
  },
  {
   "cell_type": "markdown",
   "metadata": {},
   "source": [
    "1) Compute the energy and RMSE for each track using a frame length of your choice  \n",
    "2) Compute the derivative  \n",
    "3) Plot (on separate plots) the Energy, RMSE, and derivative (ideally of both, but if you are short one time just pick one.)  \n",
    "4) from the plot(s), estimate what an appropriate 'threshold' would be to estimate the onsets.  "
   ]
  },
  {
   "cell_type": "markdown",
   "metadata": {},
   "source": [
    "Q: Does the threshold change much when you use the different tracks? If so, what could you do to put them on a similar scale first?"
   ]
  },
  {
   "cell_type": "markdown",
   "metadata": {},
   "source": [
    "### Bonus:"
   ]
  },
  {
   "cell_type": "markdown",
   "metadata": {},
   "source": [
    "* Write a function to \"throw away\" any silence at the beginning of a track. (Note you may have some noise so you don't want to just look for zeros in the raw values!)\n"
   ]
  }
 ],
 "metadata": {
  "kernelspec": {
   "display_name": "Python 3 (ipykernel)",
   "language": "python",
   "name": "python3"
  },
  "language_info": {
   "codemirror_mode": {
    "name": "ipython",
    "version": 3
   },
   "file_extension": ".py",
   "mimetype": "text/x-python",
   "name": "python",
   "nbconvert_exporter": "python",
   "pygments_lexer": "ipython3",
   "version": "3.9.13"
  }
 },
 "nbformat": 4,
 "nbformat_minor": 2
}
