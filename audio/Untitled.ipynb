{
 "cells": [
  {
   "cell_type": "code",
   "execution_count": 1,
   "metadata": {},
   "outputs": [],
   "source": [
    "#testing for 24-bit data"
   ]
  },
  {
   "cell_type": "code",
   "execution_count": null,
   "metadata": {},
   "outputs": [],
   "source": [
    "import os\n",
    "from scipy.io.wavfile import read\n",
    "import numpy as np"
   ]
  },
  {
   "cell_type": "code",
   "execution_count": 2,
   "metadata": {},
   "outputs": [
    {
     "name": "stdout",
     "output_type": "stream",
     "text": [
      "./sax-phrase-short.wav 10292\n",
      "./flute-A4.wav 8589\n",
      "./MilesDavis_SoWhat.wav 22276\n",
      "./vibraphone-C6.wav 13953\n",
      "./Radiohead_track3.wav 28888\n",
      "./violin-B3.wav 15032\n",
      "./marimbaNote.wav 20995\n",
      "./sawtooth-440.wav 20879\n",
      "./sine-101.wav 26213\n",
      "./vignesh.wav 14564\n",
      "./mystery_sound.wav 7936\n",
      "./femaleSingingScale.wav 9082\n",
      "./carnatic.wav 19448\n",
      "./impulse-response-Copy1.wav 12244\n",
      "./speech-female.wav 17895\n",
      "./piano.wav 19032\n",
      "./orchestra.wav 32767\n",
      "./sine-440-490.wav 26209\n",
      "./cello-double-2.wav 6916\n",
      "./sine-200.wav 26213\n",
      "./BobMarley_track1.wav 30063\n",
      "./bendir.wav 17614\n",
      "./impulse-response.wav 27441\n",
      "./TheBlackKeys_track4.wav 23199\n",
      "./dog_bark_dry.wav 30830\n",
      "./sines-440-602-hRange.wav 31211\n",
      "./soundsSaturn.wav 25114\n",
      "./soprano-E4.wav 3890\n",
      "./ocean.wav 22617\n",
      "./MilesDavis_track2.wav 23197\n",
      "./speech-male.wav 26628\n",
      "./multiSines.wav 32373\n",
      "./rain.wav 8438\n",
      "./message.wav 31841\n",
      "./chirp-150-190-linear.wav 31638\n",
      "./AcousticGuitar.wav 17995\n",
      "./cello-phrase.wav 13549\n",
      "./sax-phrase.wav 12047\n",
      "./80spopDrums.wav 25738\n",
      "./mystery_4.wav 32766\n",
      "./oboe-A4.wav 27356\n",
      "./cello-double.wav 17671\n",
      "./convolved-output.wav 19992\n",
      "./mridangam.wav 28340\n",
      "./sine-440.wav 26219\n",
      "./sines-440-602-transient.wav 31343\n",
      "./organ-C3.wav 26024\n",
      "./hellos.wav 29543\n",
      "./JimHendrix_HeyJoe.wav 32767\n",
      "./mystery_2.wav 32767\n",
      "./threeTwoOne.wav 0.70794576\n",
      "./mystery_3.wav 7240\n",
      "./singing-female.wav 24575\n",
      "./dialTones.wav 24928\n",
      "./sine-490.wav 26205\n",
      "./sine-1000.wav 26219\n"
     ]
    },
    {
     "name": "stderr",
     "output_type": "stream",
     "text": [
      "/Users/carthur/PycharmProjects/audioTechII/at2venv/lib/python3.7/site-packages/ipykernel_launcher.py:7: WavFileWarning: Chunk (non-data) not understood, skipping it.\n",
      "  import sys\n"
     ]
    }
   ],
   "source": [
    "mypath = '.'\n",
    "#mypath = '/Users/carthur/GT/AudioTech2/FinalProject/KeyFinding_data'\n",
    "for root, dirs, files in os.walk(mypath):\n",
    "    for file in files:\n",
    "        if file.endswith(\".wav\"):\n",
    "            (fs, data) = read(file)\n",
    "            print(os.path.join(root, file), (np.max(np.abs(data))))\n",
    "            #print( os.path.join(root, file) )"
   ]
  },
  {
   "cell_type": "code",
   "execution_count": 6,
   "metadata": {},
   "outputs": [],
   "source": [
    "from librosa import load\n",
    "(data, fs) = load('../uploaded_files/blues.00000.au')"
   ]
  },
  {
   "cell_type": "code",
   "execution_count": 7,
   "metadata": {},
   "outputs": [
    {
     "data": {
      "text/plain": [
       "array([ 0.00732422,  0.01660156,  0.00762939, ..., -0.05560303,\n",
       "       -0.06106567, -0.06417847], dtype=float32)"
      ]
     },
     "execution_count": 7,
     "metadata": {},
     "output_type": "execute_result"
    }
   ],
   "source": [
    "data"
   ]
  },
  {
   "cell_type": "code",
   "execution_count": null,
   "metadata": {},
   "outputs": [],
   "source": []
  }
 ],
 "metadata": {
  "kernelspec": {
   "display_name": "Python 3",
   "language": "python",
   "name": "python3"
  },
  "language_info": {
   "codemirror_mode": {
    "name": "ipython",
    "version": 3
   },
   "file_extension": ".py",
   "mimetype": "text/x-python",
   "name": "python",
   "nbconvert_exporter": "python",
   "pygments_lexer": "ipython3",
   "version": "3.7.6"
  }
 },
 "nbformat": 4,
 "nbformat_minor": 2
}
